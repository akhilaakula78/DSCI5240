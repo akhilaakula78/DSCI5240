{
 "cells": [
  {
   "cell_type": "markdown",
   "id": "3dec0373-dbcc-46bd-a262-14d2148ea108",
   "metadata": {},
   "source": [
    "## LAB-04"
   ]
  },
  {
   "cell_type": "code",
   "execution_count": 1,
   "id": "ea8f1530-b299-46fe-8d3d-f22b6bff4cc5",
   "metadata": {},
   "outputs": [],
   "source": [
    "#!pip install --upgrade numpy==1.24.3\n",
    "#!pip install --upgrade pandas==2.2.0\n",
    "#!pip install --upgrade scikit-learn==1.4.1.post1"
   ]
  },
  {
   "cell_type": "code",
   "execution_count": 2,
   "id": "e7524c36-147e-4a74-806c-8c15c04d25bd",
   "metadata": {},
   "outputs": [
    {
     "name": "stderr",
     "output_type": "stream",
     "text": [
      "C:\\Users\\aa2893\\AppData\\Local\\Temp\\ipykernel_13812\\2080034654.py:2: DeprecationWarning: \n",
      "Pyarrow will become a required dependency of pandas in the next major release of pandas (pandas 3.0),\n",
      "(to allow more performant data types, such as the Arrow string type, and better interoperability with other libraries)\n",
      "but was not found to be installed on your system.\n",
      "If this would cause problems for you,\n",
      "please provide us feedback at https://github.com/pandas-dev/pandas/issues/54466\n",
      "        \n",
      "  import pandas as pd\n"
     ]
    }
   ],
   "source": [
    "import numpy as np\n",
    "import pandas as pd\n",
    "import matplotlib.pyplot as plt"
   ]
  },
  {
   "cell_type": "code",
   "execution_count": 3,
   "id": "2b54e39a-2d1f-45d0-92ad-81fd7ab756ca",
   "metadata": {},
   "outputs": [],
   "source": [
    "df =  pd.read_csv('Lab1_output_insurance.csv')"
   ]
  },
  {
   "cell_type": "code",
   "execution_count": 4,
   "id": "a9a1b46b-d08a-42a2-9271-f182b1e8c141",
   "metadata": {},
   "outputs": [
    {
     "name": "stdout",
     "output_type": "stream",
     "text": [
      "<class 'pandas.core.frame.DataFrame'>\n",
      "RangeIndex: 1338 entries, 0 to 1337\n",
      "Data columns (total 18 columns):\n",
      " #   Column               Non-Null Count  Dtype  \n",
      "---  ------               --------------  -----  \n",
      " 0   age                  1338 non-null   float64\n",
      " 1   sex                  1338 non-null   int64  \n",
      " 2   bmi                  1338 non-null   float64\n",
      " 3   children             1338 non-null   float64\n",
      " 4   smoker               1338 non-null   int64  \n",
      " 5   charges              1338 non-null   float64\n",
      " 6   avg_steps_per_day    1338 non-null   float64\n",
      " 7   gym_frequency        1338 non-null   int64  \n",
      " 8   time_spent_in_gym    1338 non-null   int64  \n",
      " 9   region_northeast     1338 non-null   bool   \n",
      " 10  region_northwest     1338 non-null   bool   \n",
      " 11  region_southeast     1338 non-null   bool   \n",
      " 12  region_southwest     1338 non-null   bool   \n",
      " 13  Occupation_Artist    1338 non-null   bool   \n",
      " 14  Occupation_Doctor    1338 non-null   bool   \n",
      " 15  Occupation_Engineer  1338 non-null   bool   \n",
      " 16  Occupation_Other     1338 non-null   bool   \n",
      " 17  Occupation_Teacher   1338 non-null   bool   \n",
      "dtypes: bool(9), float64(5), int64(4)\n",
      "memory usage: 106.0 KB\n"
     ]
    }
   ],
   "source": [
    "df.info()"
   ]
  },
  {
   "cell_type": "markdown",
   "id": "4643fe89-b906-4da8-8dc3-a34269e41aa8",
   "metadata": {},
   "source": [
    "##### Question-01:"
   ]
  },
  {
   "cell_type": "code",
   "execution_count": 5,
   "id": "a95bf4b3-5db0-4001-8636-706a984089a7",
   "metadata": {},
   "outputs": [
    {
     "data": {
      "text/plain": [
       "charges\n",
       "1.0    312\n",
       "2.0    400\n",
       "3.0    626\n",
       "Name: count, dtype: int64"
      ]
     },
     "execution_count": 5,
     "metadata": {},
     "output_type": "execute_result"
    }
   ],
   "source": [
    "# Categorizing charges and create the target variable y\n",
    "df.loc[df['charges'] <= 4500, 'target'] = 1  # Low\n",
    "df.loc[(df['charges'] > 4500) & (df['charges'] <= 10000), 'target'] = 2  # Affordable\n",
    "df.loc[df['charges'] > 10000, 'target'] = 3  # High\n",
    "\n",
    "# Dropping the 'target' column and renaming 'target' to 'charges'\n",
    "df.drop(columns='charges', inplace=True)\n",
    "df.rename(columns={'target': 'charges'}, inplace=True)\n",
    "\n",
    "# Displaying the frequency of each label in charges\n",
    "df['charges'].value_counts().sort_index()"
   ]
  },
  {
   "cell_type": "markdown",
   "id": "1f1832e2-1095-4007-b058-1ddbb024e759",
   "metadata": {},
   "source": [
    "##### Question-02:"
   ]
  },
  {
   "cell_type": "markdown",
   "id": "9edd889f-0eda-4aa7-b196-b189e7c690dd",
   "metadata": {},
   "source": [
    "Machine Learning models that can be trained on this dataset using the current target column are Logistic Regression, Decision Tree Classifier and Random Forest Classifier.  \n",
    "LinearRegression, Polynomial Regression, DecisionTreeRegression, RandomForestRegression, SGDRegressor are regression models.  \n",
    "SGD Logistic Regressor is for binary classification not on multiclass classification. "
   ]
  },
  {
   "cell_type": "markdown",
   "id": "1c53f023-6474-4cda-84a3-d6ff30d53b88",
   "metadata": {},
   "source": [
    "##### Question-03:"
   ]
  },
  {
   "cell_type": "code",
   "execution_count": 6,
   "id": "6c6b2691-8a54-4b67-8faa-cc64796ff057",
   "metadata": {},
   "outputs": [
    {
     "name": "stdout",
     "output_type": "stream",
     "text": [
      "<class 'pandas.core.frame.DataFrame'>\n",
      "RangeIndex: 1338 entries, 0 to 1337\n",
      "Data columns (total 17 columns):\n",
      " #   Column               Non-Null Count  Dtype  \n",
      "---  ------               --------------  -----  \n",
      " 0   age                  1338 non-null   float64\n",
      " 1   sex                  1338 non-null   int64  \n",
      " 2   bmi                  1338 non-null   float64\n",
      " 3   children             1338 non-null   float64\n",
      " 4   smoker               1338 non-null   int64  \n",
      " 5   avg_steps_per_day    1338 non-null   float64\n",
      " 6   gym_frequency        1338 non-null   int64  \n",
      " 7   time_spent_in_gym    1338 non-null   int64  \n",
      " 8   region_northeast     1338 non-null   bool   \n",
      " 9   region_northwest     1338 non-null   bool   \n",
      " 10  region_southeast     1338 non-null   bool   \n",
      " 11  region_southwest     1338 non-null   bool   \n",
      " 12  Occupation_Artist    1338 non-null   bool   \n",
      " 13  Occupation_Doctor    1338 non-null   bool   \n",
      " 14  Occupation_Engineer  1338 non-null   bool   \n",
      " 15  Occupation_Other     1338 non-null   bool   \n",
      " 16  Occupation_Teacher   1338 non-null   bool   \n",
      "dtypes: bool(9), float64(4), int64(4)\n",
      "memory usage: 95.5 KB\n"
     ]
    }
   ],
   "source": [
    "# Seperating features and target column\n",
    "X = df.drop('charges', axis = 1)\n",
    "y = df['charges']\n",
    "\n",
    "# Printing information of DataFrame 'X'\n",
    "X.info()"
   ]
  },
  {
   "cell_type": "code",
   "execution_count": 7,
   "id": "852c54e6-22d7-484c-b7a0-6302167ef832",
   "metadata": {},
   "outputs": [
    {
     "data": {
      "text/plain": [
       "0.39"
      ]
     },
     "execution_count": 7,
     "metadata": {},
     "output_type": "execute_result"
    }
   ],
   "source": [
    "from sklearn.model_selection import train_test_split\n",
    "from sklearn.preprocessing import MinMaxScaler\n",
    "\n",
    "# Splitting the dataset into train and test sets\n",
    "X_train, X_test, y_train, y_test = train_test_split(X, y, test_size=0.2, random_state=0)\n",
    "\n",
    "# Scaling the feature sets\n",
    "scaler = MinMaxScaler()\n",
    "scaler.fit(X_train)\n",
    "X_train_scaled = scaler.transform(X_train)\n",
    "X_test_scaled = scaler.transform(X_test)\n",
    "\n",
    "# Creating dataframes with the scaled features\n",
    "X_train = pd.DataFrame(X_train_scaled, columns=X.columns)\n",
    "X_test = pd.DataFrame(X_test_scaled, columns=X.columns)\n",
    "\n",
    "# Computing and displaying the mean of the bmi column in the X_test dataframe to two decimal places\n",
    "round(X_test['bmi'].mean(), 2)"
   ]
  },
  {
   "cell_type": "markdown",
   "id": "a0be47f8-5ab5-45ba-9d43-429c831f24bc",
   "metadata": {},
   "source": [
    "##### Question-04:"
   ]
  },
  {
   "cell_type": "code",
   "execution_count": 8,
   "id": "4a5bfc35-aba3-45e7-8e8d-4f45a73b79f3",
   "metadata": {},
   "outputs": [
    {
     "data": {
      "text/plain": [
       "0.8"
      ]
     },
     "execution_count": 8,
     "metadata": {},
     "output_type": "execute_result"
    }
   ],
   "source": [
    "from sklearn.linear_model import LogisticRegression\n",
    "\n",
    "# Fitting Logistic Regression model\n",
    "lgstc_rgrsn = LogisticRegression(random_state=0, max_iter=200)\n",
    "lgstc_rgrsn.fit(X_train, y_train)\n",
    "\n",
    "# Displaying the training score with two digits after the decimal point\n",
    "round(lgstc_rgrsn.score(X_train, y_train), 2)"
   ]
  },
  {
   "cell_type": "markdown",
   "id": "8f7d7416-3850-4d31-872c-3b863e1d9eb1",
   "metadata": {},
   "source": [
    "##### Question-05:"
   ]
  },
  {
   "cell_type": "code",
   "execution_count": 9,
   "id": "c85d12bb-2f40-4c92-b213-23f1b47aca5e",
   "metadata": {},
   "outputs": [
    {
     "data": {
      "text/plain": [
       "0.76"
      ]
     },
     "execution_count": 9,
     "metadata": {},
     "output_type": "execute_result"
    }
   ],
   "source": [
    "# Displaying the test score with two digits after the decimal point\n",
    "round(lgstc_rgrsn.score(X_test, y_test), 2)"
   ]
  },
  {
   "cell_type": "markdown",
   "id": "2e4983ab-3234-4d53-a39c-3991b3bcddeb",
   "metadata": {},
   "source": [
    "##### Question-06"
   ]
  },
  {
   "cell_type": "markdown",
   "id": "91af09d3-4a53-44e8-8cba-677410060bab",
   "metadata": {},
   "source": [
    "Training score is 0.80 and test score is 0.76.  \n",
    "Since the difference between training and test scores, we can say that 'The model generalizes the unseen data pretty well.\n",
    "'"
   ]
  },
  {
   "cell_type": "markdown",
   "id": "234739e9-48ad-4f63-aa8f-43b888a6dc76",
   "metadata": {},
   "source": [
    "##### Question-07:"
   ]
  },
  {
   "cell_type": "code",
   "execution_count": 10,
   "id": "502885e4-e046-41bb-941d-882b4ab3f8cc",
   "metadata": {},
   "outputs": [
    {
     "name": "stdout",
     "output_type": "stream",
     "text": [
      "[[220  26   5]\n",
      " [ 12 225  77]\n",
      " [ 32  60 413]]\n"
     ]
    }
   ],
   "source": [
    "from sklearn.metrics import confusion_matrix\n",
    "\n",
    "# Predicting on training set\n",
    "y_train_prediction = lgstc_rgrsn.predict(X_train)\n",
    "\n",
    "# Printing confusion matrix for training dataset\n",
    "print(confusion_matrix(y_train, y_train_prediction))"
   ]
  },
  {
   "cell_type": "markdown",
   "id": "2edacec9-90f4-4d44-9440-6e15af176857",
   "metadata": {},
   "source": [
    "##### Question-09:"
   ]
  },
  {
   "cell_type": "markdown",
   "id": "d6c78a48-65eb-47bb-b074-5c1b10efe892",
   "metadata": {},
   "source": [
    "32 instances of class 3 are incorrectly predicted as class 1.  \n",
    "60 instances of class 3 are incorrectly predicted as class 2.  \n",
    "32 + 60 = 92  \n",
    "Total number of misclassifications in class 3 are 92.  "
   ]
  },
  {
   "cell_type": "markdown",
   "id": "006522a7-1fd2-487f-a08e-084f08fc2555",
   "metadata": {},
   "source": [
    "##### Question-10:"
   ]
  },
  {
   "cell_type": "markdown",
   "id": "b008e147-f560-4cc4-b9ad-f8ada9547705",
   "metadata": {},
   "source": [
    "Training dataset confusion matrix:  \n",
    "220 26  5  \n",
    "12  225 77  \n",
    "32  60  413  \n",
    "\n",
    "Misclassifications in class 1 are 31(26 + 5)   \n",
    "Misclassifications in class 2 are 89(12 + 77)  \n",
    "Misclassifications in class 3 are 92(60 + 32)  \n",
    "\n",
    "The target class 3 has most number of miclassifications.]]"
   ]
  },
  {
   "cell_type": "markdown",
   "id": "04d4e462-1944-41e0-8295-aa120cad5d51",
   "metadata": {},
   "source": [
    "##### Question-11:"
   ]
  },
  {
   "cell_type": "code",
   "execution_count": 11,
   "id": "110e51e5-54b2-445f-bf5f-513b230dda73",
   "metadata": {},
   "outputs": [
    {
     "data": {
      "text/plain": [
       "0.0028"
      ]
     },
     "execution_count": 11,
     "metadata": {},
     "output_type": "execute_result"
    }
   ],
   "source": [
    "# Creating DataFrame for the new observation\n",
    "new_obsrvn = pd.DataFrame({\n",
    "    \"age\": [40],\n",
    "    \"sex\": [1],\n",
    "    \"bmi\": [28],\n",
    "    \"children\": [2],\n",
    "    \"smoker\": [0],\n",
    "    \"avg_steps_per_day\": [7000],\n",
    "    \"gym_frequency\": [1],\n",
    "    \"time_spent_in_gym\": [2],\n",
    "    \"region_northeast\": [0],\n",
    "    \"region_northwest\": [0],\n",
    "    \"region_southeast\": [0],\n",
    "    \"region_southwest\": [1],\n",
    "    \"Occupation_Artist\": [0],\n",
    "    \"Occupation_Doctor\": [0],\n",
    "    \"Occupation_Engineer\": [1],\n",
    "    \"Occupation_Other\": [0],\n",
    "    \"Occupation_Teacher\": [0]\n",
    "})\n",
    "\n",
    "# Scaling the new observation\n",
    "new_obsrvn_scaled = scaler.transform(new_obsrvn)\n",
    "\n",
    "# Creating dataframe from scaled observation\n",
    "new_obsrvn_scaled = pd.DataFrame(new_obsrvn_scaled, columns=new_obsrvn.columns)\n",
    "\n",
    "# Predicting using the model\n",
    "new_obsrvn_prdn = lgstc_rgrsn.predict_proba(new_obsrvn_scaled)[0, 1]\n",
    "\n",
    "# Displaying the prediction with four digits after the decimal point\n",
    "round(new_obsrvn_prdn, 4)"
   ]
  },
  {
   "cell_type": "markdown",
   "id": "ebc414f0-97b5-44a4-8acf-099068a573b5",
   "metadata": {},
   "source": [
    "##### Question-12:"
   ]
  },
  {
   "cell_type": "code",
   "execution_count": 12,
   "id": "1077d5b8-1010-412f-a1b0-ff7380f84302",
   "metadata": {},
   "outputs": [
    {
     "name": "stdout",
     "output_type": "stream",
     "text": [
      "[3.]\n"
     ]
    }
   ],
   "source": [
    "# Predicting using the model\n",
    "print(lgstc_rgrsn.predict(new_obsrvn_scaled))"
   ]
  },
  {
   "cell_type": "markdown",
   "id": "3a874f85-3be8-44cc-a7a6-52114cf7836d",
   "metadata": {},
   "source": [
    "##### Question-13:"
   ]
  },
  {
   "cell_type": "markdown",
   "id": "ddbb2b60-0945-4001-bada-8cb05bff67dd",
   "metadata": {},
   "source": [
    "Because of the class imbalance, it is recommended to use micro-averaging for evaluating the precision of the model for all classes.  \n",
    "'Due to the class imbalance, it would be better for us to use micro-averaging.'\n"
   ]
  },
  {
   "cell_type": "markdown",
   "id": "b67f4834-9c47-47a1-84b1-e26d9749c0c9",
   "metadata": {},
   "source": [
    "##### Question-14:"
   ]
  },
  {
   "cell_type": "code",
   "execution_count": 13,
   "id": "643c4fed-4d5e-4229-a5ec-f503f39b87eb",
   "metadata": {},
   "outputs": [
    {
     "data": {
      "text/plain": [
       "0.8"
      ]
     },
     "execution_count": 13,
     "metadata": {},
     "output_type": "execute_result"
    }
   ],
   "source": [
    "from sklearn.metrics import recall_score\n",
    "\n",
    "# Calculating and printing recall score on the train dataframe rounded to two decimals\n",
    "round(recall_score(y_train, lgstc_rgrsn.predict(X_train), average='macro'), 2)"
   ]
  },
  {
   "cell_type": "markdown",
   "id": "b90a9e28-0bfd-4df4-9e99-cedbd280936f",
   "metadata": {},
   "source": [
    "##### Question-15:"
   ]
  },
  {
   "cell_type": "code",
   "execution_count": 14,
   "id": "b3a55783-b585-45b6-9afd-18111214dab3",
   "metadata": {},
   "outputs": [
    {
     "data": {
      "text/plain": [
       "0.76"
      ]
     },
     "execution_count": 14,
     "metadata": {},
     "output_type": "execute_result"
    }
   ],
   "source": [
    "from sklearn.metrics import precision_score\n",
    "\n",
    "# Calculating and printing precision score on the train dataframe rounded to two decimals\n",
    "round(precision_score(y_test, lgstc_rgrsn.predict(X_test), average='macro'), 2)"
   ]
  },
  {
   "cell_type": "markdown",
   "id": "326947b1-8348-4a54-af87-4cdc459a5f2e",
   "metadata": {},
   "source": [
    "##### Question-16:"
   ]
  },
  {
   "cell_type": "code",
   "execution_count": 15,
   "id": "622c9578-e5d5-4e64-96d3-8a655b3d4db7",
   "metadata": {},
   "outputs": [
    {
     "name": "stdout",
     "output_type": "stream",
     "text": [
      "[[408  97]\n",
      " [ 53 512]]\n"
     ]
    }
   ],
   "source": [
    "from sklearn.metrics import confusion_matrix\n",
    "\n",
    "# Combining classes 1 and 2 into a positive label\n",
    "y_new_train = y_train < 3\n",
    "\n",
    "# Training the Logistic Regression model on converted binary target\n",
    "lgstc_rgrsn_bnry = LogisticRegression(random_state=0, max_iter=1000)\n",
    "lgstc_rgrsn_bnry.fit(X_train, y_new_train)\n",
    "\n",
    "# Prediction on the train dataframe\n",
    "y_train_prdn_bnry = lgstc_rgrsn_bnry.predict(X_train)\n",
    "\n",
    "# Printing the confusion matrix\n",
    "print(confusion_matrix(y_new_train, y_train_prdn_bnry))"
   ]
  },
  {
   "cell_type": "markdown",
   "id": "b26c8e81-98d0-4817-b530-ecad312ad318",
   "metadata": {},
   "source": [
    "##### Question-18:"
   ]
  },
  {
   "cell_type": "code",
   "execution_count": 16,
   "id": "3dde7635-206f-48c6-86b0-0316f09a78f4",
   "metadata": {},
   "outputs": [
    {
     "data": {
      "image/png": "[encoded data removed]",
      "text/plain": [
       "<Figure size 640x480 with 1 Axes>"
      ]
     },
     "metadata": {},
     "output_type": "display_data"
    }
   ],
   "source": [
    "from sklearn.metrics import precision_recall_curve\n",
    "\n",
    "# Calculating precision and recall\n",
    "precision, recall, thresholds = precision_recall_curve(y_new_train, lgstc_rgrsn_bnry.predict_proba(X_train)[:, 1])\n",
    "\n",
    "plt.plot(precision[np.argmin(np.abs(thresholds - 0.5))], recall[np.argmin(np.abs(thresholds - 0.5))], 'o', markersize=10,\n",
    "         label=\"threshold 0.5\", fillstyle=\"none\", c='k', mew=2)\n",
    "\n",
    "\n",
    "plt.plot(precision, recall, label=\"precision recall curve\")\n",
    "plt.xlabel(\"Precision\")\n",
    "plt.ylabel(\"Recall\")\n",
    "plt.legend(loc=\"best\")\n",
    "plt.grid()"
   ]
  },
  {
   "cell_type": "code",
   "execution_count": 17,
   "id": "6c7abe6f-f1b4-4048-b64c-1250b8b64ac5",
   "metadata": {},
   "outputs": [
    {
     "data": {
      "text/plain": [
       "0.84"
      ]
     },
     "execution_count": 17,
     "metadata": {},
     "output_type": "execute_result"
    }
   ],
   "source": [
    "# Calculating precision at the threshold closest to 0.5\n",
    "prcsn_clst_to_05 = precision[np.argmin(np.abs(thresholds - 0.5))]\n",
    "\n",
    "#Displaying precision rounded to 2 decimal places\n",
    "round(prcsn_clst_to_05, 2)"
   ]
  },
  {
   "cell_type": "markdown",
   "id": "76264ce5-e65b-49be-936f-7b14acd738ec",
   "metadata": {},
   "source": [
    "##### Question-19:"
   ]
  },
  {
   "cell_type": "code",
   "execution_count": 18,
   "id": "4c16097f-24d1-46e4-bea6-5c602369def6",
   "metadata": {},
   "outputs": [
    {
     "data": {
      "text/plain": [
       "0.369464484787218"
      ]
     },
     "execution_count": 18,
     "metadata": {},
     "output_type": "execute_result"
    }
   ],
   "source": [
    "thrsld_at_rcl_95 = thresholds[np.argmin(np.abs(recall - 0.95))]\n",
    "thrsld_at_rcl_95"
   ]
  },
  {
   "cell_type": "markdown",
   "id": "c6903271-e904-4516-ab10-bac5d0398805",
   "metadata": {},
   "source": [
    "##### Question-20:"
   ]
  },
  {
   "cell_type": "code",
   "execution_count": 19,
   "id": "8fb5ee96-ba07-4e7a-8652-2cbf68109e9d",
   "metadata": {},
   "outputs": [
    {
     "data": {
      "text/plain": [
       "array([[363, 142],\n",
       "       [ 28, 537]], dtype=int64)"
      ]
     },
     "execution_count": 19,
     "metadata": {},
     "output_type": "execute_result"
    }
   ],
   "source": [
    "from sklearn.metrics import confusion_matrix\n",
    "\n",
    "# Assigning positive (1) or negative (0) labels based on the threshold value determined in the previous question\n",
    "y_pred_threshold = np.where(lgstc_rgrsn_bnry.predict_proba(X_train)[:, 1] >= thrsld_at_rcl_95, 1, 0)\n",
    "\n",
    "# Creating the confusion matrix\n",
    "confusion_matrix_threshold = confusion_matrix(y_new_train, y_pred_threshold)\n",
    "\n",
    "confusion_matrix_threshold"
   ]
  },
  {
   "cell_type": "markdown",
   "id": "3548c80f-9b3e-4003-9efe-4515fb6ea630",
   "metadata": {},
   "source": [
    "##### Question-21:"
   ]
  },
  {
   "cell_type": "code",
   "execution_count": 20,
   "id": "8f5ee420-5434-4f0e-b3e2-3004a594438a",
   "metadata": {},
   "outputs": [
    {
     "data": {
      "text/plain": [
       "charges\n",
       "1.0    251\n",
       "2.0    314\n",
       "3.0    505\n",
       "Name: count, dtype: int64"
      ]
     },
     "execution_count": 20,
     "metadata": {},
     "output_type": "execute_result"
    }
   ],
   "source": [
    "y_train.value_counts().sort_index()"
   ]
  },
  {
   "cell_type": "code",
   "execution_count": 21,
   "id": "31a50b80-f42c-4bca-a94a-5f6cdf0d740f",
   "metadata": {},
   "outputs": [
    {
     "data": {
      "text/plain": [
       "1.52"
      ]
     },
     "execution_count": 21,
     "metadata": {},
     "output_type": "execute_result"
    }
   ],
   "source": [
    "# Define a function named entropy that takes three arguments: a, b, and c\n",
    "def entropy(a, b, c):\n",
    "    total = a + b + c  # Calculate the total count of occurrences\n",
    "    if a == 0 or b == 0 or c == 0:  # If any of the counts is zero, entropy is 0\n",
    "        return 0\n",
    "    else:\n",
    "        # Calculate the entropy using the formula: -p(a) * log2(p(a)) - p(b) * log2(p(b)) - p(c) * log2(p(c))\n",
    "        # where p(x) is the probability of x occurring, calculated as count of x / total count\n",
    "        return -(a/total) * np.log2(a/total) - (b/total) * np.log2(b/total) - (c/total) * np.log2(c/total)\n",
    "\n",
    "# Round the result of the entropy function to 2 decimal places\n",
    "round(entropy(251, 314, 505), 2)"
   ]
  },
  {
   "cell_type": "markdown",
   "id": "1bbac4e2-e6e9-4179-b1da-11bfd476b20f",
   "metadata": {},
   "source": [
    "##### Question-22:"
   ]
  },
  {
   "cell_type": "code",
   "execution_count": 22,
   "id": "ea6a94b3-a546-4d46-9675-7b9407f0a6e9",
   "metadata": {},
   "outputs": [
    {
     "data": {
      "text/plain": [
       "15"
      ]
     },
     "execution_count": 22,
     "metadata": {},
     "output_type": "execute_result"
    }
   ],
   "source": [
    "from sklearn.tree import DecisionTreeClassifier\n",
    "\n",
    "# Train a DecisionTreeClassifier\n",
    "dcsn_tr_clasfr = DecisionTreeClassifier(random_state=0)\n",
    "dcsn_tr_clasfr.fit(X_train, y_train)\n",
    "\n",
    "# Getting the depth of the decision tree\n",
    "dcsn_tr_clasfr.get_depth()"
   ]
  },
  {
   "cell_type": "markdown",
   "id": "d75d342b-ab19-42b2-8332-f6313ecbf05a",
   "metadata": {},
   "source": [
    "##### Question-23:"
   ]
  },
  {
   "cell_type": "code",
   "execution_count": 23,
   "id": "986305ca-5008-4e63-9b0f-f3dde53ec926",
   "metadata": {},
   "outputs": [
    {
     "name": "stdout",
     "output_type": "stream",
     "text": [
      "Training score: 1.0\n",
      "Test score: 0.7873134328358209\n"
     ]
    }
   ],
   "source": [
    "# Print training and test scores\n",
    "print(\"Training score:\", dcsn_tr_clasfr.score(X_train, y_train))\n",
    "print(\"Test score:\", dcsn_tr_clasfr.score(X_test, y_test))"
   ]
  },
  {
   "cell_type": "markdown",
   "id": "7e506139-9af5-46a3-97e0-1f98f5ce0800",
   "metadata": {},
   "source": [
    "The model overfits the data as there is a significant gap between train and test scores.  \n",
    "The training score of this model should be 1 or very close to 1 because there is no parameter to specify early stopping conditions."
   ]
  },
  {
   "cell_type": "markdown",
   "id": "7efa69ca-8185-4315-a39b-13f086bdabc1",
   "metadata": {},
   "source": [
    "##### Question-24:"
   ]
  },
  {
   "cell_type": "code",
   "execution_count": 24,
   "id": "324f4b8b-2ae8-4b4b-9b34-44ce7b7a1ca5",
   "metadata": {},
   "outputs": [
    {
     "name": "stdout",
     "output_type": "stream",
     "text": [
      "0.02\n",
      "0.5869158878504673\n",
      "0.5708955223880597\n"
     ]
    }
   ],
   "source": [
    "from sklearn.tree import DecisionTreeClassifier\n",
    "from sklearn.metrics import accuracy_score\n",
    "\n",
    "# Create Decision Tree model with max_depth=1\n",
    "dcsn_tr_clasfr_md_1 = DecisionTreeClassifier(max_depth=1, random_state=0)\n",
    "\n",
    "# Train the model\n",
    "dcsn_tr_clasfr_md_1.fit(X_train, y_train)\n",
    "\n",
    "# Calculate training and test scores with new classifier\n",
    "trn_score_md1 = dcsn_tr_clasfr_md_1.score(X_train, y_train)\n",
    "tst_score_md1 = dcsn_tr_clasfr_md_1.score(X_test, y_test)\n",
    "\n",
    "# Calculating and displaying the score gap with two decimal places\n",
    "print(round(abs(trn_score_md1 - tst_score_md1), 2))\n",
    "print(trn_score_md1)\n",
    "print(tst_score_md1)"
   ]
  },
  {
   "cell_type": "markdown",
   "id": "9afe51b0-755b-47c0-9375-feaa29c10bc9",
   "metadata": {},
   "source": [
    "##### Question-25:"
   ]
  },
  {
   "cell_type": "code",
   "execution_count": 25,
   "id": "f4895ec7-5f22-463e-aa3d-874595bb29d8",
   "metadata": {},
   "outputs": [
    {
     "name": "stdout",
     "output_type": "stream",
     "text": [
      "3\n"
     ]
    }
   ],
   "source": [
    "best_max_depth = 0\n",
    "best_train_score = 0\n",
    "best_test_score = 0\n",
    "smlst_gap = float('inf')\n",
    "\n",
    "for max_depth in range(1, 11):\n",
    "    # Creating a DecisionTreeClassifier model with max_depth\n",
    "    dcsn_tr_clasfr_md1to11 = DecisionTreeClassifier(max_depth=max_depth, random_state=0)\n",
    "    \n",
    "    # Training the model\n",
    "    dcsn_tr_clasfr_md1to11.fit(X_train, y_train)\n",
    "    \n",
    "    # Calculating training and test scores\n",
    "    train_score = dcsn_tr_clasfr_md1to11.score(X_train, y_train)\n",
    "    test_score = dcsn_tr_clasfr_md1to11.score(X_test, y_test)\n",
    "    \n",
    "    # Calculate the gap between train and test scores\n",
    "    gap = abs(train_score - test_score)\n",
    "    \n",
    "    # Check if both train and test scores are above 0.8\n",
    "    if train_score > 0.8 and test_score > 0.8:\n",
    "        # Check if this model has the smallest gap\n",
    "        if gap < smlst_gap:\n",
    "            best_max_depth = max_depth\n",
    "            best_train_score = train_score\n",
    "            best_test_score = test_score\n",
    "            smlst_gap = gap\n",
    "\n",
    "print(best_max_depth)"
   ]
  },
  {
   "cell_type": "markdown",
   "id": "7746c093-c362-4ccd-9134-238d71944926",
   "metadata": {},
   "source": [
    "##### Question-26:"
   ]
  },
  {
   "cell_type": "code",
   "execution_count": 26,
   "id": "822c4490-25b1-4e81-b4be-e7c991524897",
   "metadata": {},
   "outputs": [
    {
     "data": {
      "text/plain": [
       "0.82"
      ]
     },
     "execution_count": 26,
     "metadata": {},
     "output_type": "execute_result"
    }
   ],
   "source": [
    "from sklearn.metrics import precision_score\n",
    "\n",
    "# Creating DecisionTreeClassifier with the best max_depth\n",
    "dcsn_tr_clsfr_bst = DecisionTreeClassifier(max_depth=best_max_depth, random_state=0)\n",
    "\n",
    "# Training the model\n",
    "dcsn_tr_clsfr_bst.fit(X_train, y_train)\n",
    "\n",
    "# Predict on the test set\n",
    "y_train_prdtn = dcsn_tr_clsfr_bst.predict(X_train)\n",
    "\n",
    "# Calculating and displaying macro-precision score\n",
    "round(precision_score(y_train, y_train_prdtn, average='macro'), 2)"
   ]
  },
  {
   "cell_type": "markdown",
   "id": "0a6912b6-7d1e-4f01-98db-191169da8eae",
   "metadata": {},
   "source": [
    "##### Question-27:"
   ]
  },
  {
   "cell_type": "code",
   "execution_count": 27,
   "id": "6fcc333c-336f-460c-9a08-39db0b9ae93a",
   "metadata": {},
   "outputs": [
    {
     "data": {
      "text/plain": [
       "0.8"
      ]
     },
     "execution_count": 27,
     "metadata": {},
     "output_type": "execute_result"
    }
   ],
   "source": [
    "# Predict on the test set\n",
    "y_tst_prdtn = dcsn_tr_clsfr_bst.predict(X_test)\n",
    "\n",
    "# Calculating and displaying macro-precision score\n",
    "round(precision_score(y_test, y_tst_prdtn, average='macro'), 2)"
   ]
  },
  {
   "cell_type": "markdown",
   "id": "ac85a851-6bdc-4299-909f-68a7ccedbce0",
   "metadata": {},
   "source": [
    "##### Question-28:"
   ]
  },
  {
   "cell_type": "code",
   "execution_count": 28,
   "id": "0638493a-748e-48ec-9c83-cb8f284e34d8",
   "metadata": {},
   "outputs": [
    {
     "name": "stdout",
     "output_type": "stream",
     "text": [
      "[[54  7  0]\n",
      " [14 69  3]\n",
      " [ 9 20 92]]\n"
     ]
    }
   ],
   "source": [
    "from sklearn.metrics import confusion_matrix\n",
    "\n",
    "# Printing Confusion matrix on test data\n",
    "print(confusion_matrix(y_test, y_tst_prdtn))"
   ]
  },
  {
   "cell_type": "markdown",
   "id": "a8b620c8-3ce2-4c01-a29d-4b8fa614464c",
   "metadata": {},
   "source": [
    "Actual label \"1\" was predicted as \"1\" 54 times, as \"2\" 7 times, and as \"3\" 0 times.  \n",
    "Actual label \"2\" was predicted as \"1\" 14 times, as \"2\" 69 times, and as \"3\" 3 times  .\n",
    "Actual label \"3\" was predicted as \"1\" 9 times, as \"2\" 20 times, and as \"3\" 92 time  \n",
    "\n",
    "None of the instances with actual label 3 are predicted as label 1. (predicted as 1 9 times) - Incorrect  \n",
    "Using the decision tree model, instances with label 2 have the highest number of wrong predictions. - Incorrect as max(7+0, 14+3, 9+20) is class 3 not 2.  \n",
    "Instances with label 1 are either predicted as label 1 or label 3. - Incorrect as they are predicted as 1 or 2 not as 3.  \n",
    "The actual label of instance predicted with label 1 is either 1 or 2. - Incorrect as the actual labels of predicted 1 are 1, 2, and 3.\n",
    ".\n",
    "2."
   ]
  },
  {
   "cell_type": "markdown",
   "id": "c6b9ecb1-2178-4429-ab61-c27fa9b56408",
   "metadata": {},
   "source": [
    "##### Question-29:"
   ]
  },
  {
   "cell_type": "code",
   "execution_count": 29,
   "id": "55b49dfc-9bf5-474e-97e0-d7f02b8fa713",
   "metadata": {},
   "outputs": [],
   "source": [
    "from sklearn.ensemble import RandomForestClassifier\n",
    "\n",
    "# Define lists to store train and test accuracies\n",
    "rfc_trn_acry = []\n",
    "rfc_tst_acry = []\n",
    "rfc_index = []\n",
    "\n",
    "# Iterate over hyperparameter values\n",
    "for max_depth in [1, 2]:\n",
    "    for max_samples in [0.2, 0.5]:\n",
    "        for max_features in [0.2, 0.5]:\n",
    "            # Create and train the RandomForestClassifier\n",
    "            rndm_frst_clsfr = RandomForestClassifier(random_state=0, \n",
    "                                                     max_depth=max_depth, \n",
    "                                                     max_samples=max_samples, \n",
    "                                                     max_features=max_features)\n",
    "            rndm_frst_clsfr.fit(X_train, y_train)\n",
    "            \n",
    "            # Calculate train and test accuracies\n",
    "            trn_acry = rndm_frst_clsfr.score(X_train, y_train)\n",
    "            tst_acry = rndm_frst_clsfr.score(X_test, y_test)\n",
    "            \n",
    "            # Append accuracies and hyperparameters to lists\n",
    "            rfc_trn_acry.append(trn_acry)\n",
    "            rfc_tst_acry.append(tst_acry)\n",
    "            rfc_index.append((max_depth, max_samples, max_features))\n",
    "\n",
    "# Convert lists to numpy arrays\n",
    "rfc_trn_acry = np.array(rfc_trn_acry)\n",
    "rfc_tst_acry = np.array(rfc_tst_acry)\n",
    "\n",
    "# Calculate the difference between train and test accuracies\n",
    "accuracy_diff = np.abs(rfc_trn_acry - rfc_tst_acry)\n",
    "\n",
    "# Get the index of the minimum difference\n",
    "best_index = np.argmin(accuracy_diff)\n",
    "\n",
    "# Get the best hyperparameters\n",
    "best_params = rfc_index[best_index]\n",
    "best_max_depth, best_max_samples, best_max_features = best_params"
   ]
  },
  {
   "cell_type": "code",
   "execution_count": 30,
   "id": "555c4891-47c0-42df-92e3-e9c174762cdb",
   "metadata": {},
   "outputs": [
    {
     "data": {
      "image/png": "[encoded data removed]",
      "text/plain": [
       "<Figure size 2000x500 with 1 Axes>"
      ]
     },
     "metadata": {},
     "output_type": "display_data"
    },
    {
     "name": "stdout",
     "output_type": "stream",
     "text": [
      "(2, 0.5, 0.5)\n",
      "0.8214953271028037\n",
      "0.8059701492537313\n"
     ]
    }
   ],
   "source": [
    "# Visualize the results\n",
    "%matplotlib inline\n",
    "plt.subplots(figsize=(20,5))\n",
    "plt.plot(range(len(rfc_index)), rfc_trn_acry, label='Train score')\n",
    "plt.plot(range(len(rfc_index)), rfc_tst_acry, label='Test score')\n",
    "plt.xticks(range(len(rfc_index)), rfc_index, rotation=90)\n",
    "plt.legend()\n",
    "plt.grid()\n",
    "plt.show()\n",
    "\n",
    "print(best_params)\n",
    "print(rfc_trn_acry[best_index])\n",
    "print(rfc_tst_acry[best_index])"
   ]
  },
  {
   "cell_type": "markdown",
   "id": "c4ef6adf-f727-49d5-9556-6563aff664e7",
   "metadata": {},
   "source": [
    "##### Question-30:"
   ]
  },
  {
   "cell_type": "code",
   "execution_count": 31,
   "id": "80eebff8-1e6f-42b4-9cf8-13dd5ec43f13",
   "metadata": {},
   "outputs": [
    {
     "name": "stdout",
     "output_type": "stream",
     "text": [
      "0.82\n"
     ]
    }
   ],
   "source": [
    "# Define and train the RandomForestClassifier with the best hyperparameters\n",
    "bst_rndm_frst_clsfr = RandomForestClassifier(max_depth=2, \n",
    "                                             max_samples=0.5, \n",
    "                                             max_features=0.5, \n",
    "                                             random_state=0)\n",
    "bst_rndm_frst_clsfr.fit(X_train, y_train)\n",
    "\n",
    "# Calculating the training score\n",
    "print(round(bst_rndm_frst_clsfr.score(X_train, y_train), 2))"
   ]
  },
  {
   "cell_type": "markdown",
   "id": "e1ec0d54-9700-4622-a151-7de1e487cca9",
   "metadata": {},
   "source": [
    "##### Question-31"
   ]
  },
  {
   "cell_type": "code",
   "execution_count": 32,
   "id": "dad8e318-44f0-4ce5-862e-ad1763666d3e",
   "metadata": {},
   "outputs": [
    {
     "name": "stdout",
     "output_type": "stream",
     "text": [
      "0.81\n"
     ]
    }
   ],
   "source": [
    "# Calculating the training score\n",
    "print(round(bst_rndm_frst_clsfr.score(X_test, y_test), 2))"
   ]
  },
  {
   "cell_type": "markdown",
   "id": "91bc0c44-30ee-475e-a863-18635d7772cd",
   "metadata": {},
   "source": [
    "##### Question-32"
   ]
  },
  {
   "cell_type": "code",
   "execution_count": 33,
   "id": "59141fb2-cfb3-4bb8-bfca-f73728a2fc7c",
   "metadata": {},
   "outputs": [
    {
     "data": {
      "text/plain": [
       "Index(['age', 'smoker', 'avg_steps_per_day'], dtype='object')"
      ]
     },
     "execution_count": 33,
     "metadata": {},
     "output_type": "execute_result"
    }
   ],
   "source": [
    "# Get the indices of the top 3 features\n",
    "tp_3_indcs = bst_rndm_frst_clsfr.feature_importances_.argsort()[-3:][::-1]\n",
    "\n",
    "# Get the names of the top 3 features\n",
    "top_3_features = X_train.columns[tp_3_indcs]\n",
    "top_3_features"
   ]
  }
 ],
 "metadata": {
  "kernelspec": {
   "display_name": "Python 3 (ipykernel)",
   "language": "python",
   "name": "python3"
  },
  "language_info": {
   "codemirror_mode": {
    "name": "ipython",
    "version": 3
   },
   "file_extension": ".py",
   "mimetype": "text/x-python",
   "name": "python",
   "nbconvert_exporter": "python",
   "pygments_lexer": "ipython3",
   "version": "3.12.6"
  }
 },
 "nbformat": 4,
 "nbformat_minor": 5
}
