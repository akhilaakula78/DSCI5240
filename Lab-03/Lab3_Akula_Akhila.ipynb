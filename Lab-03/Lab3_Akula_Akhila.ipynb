{
 "cells": [
  {
   "cell_type": "markdown",
   "id": "fe1c742f-0652-43aa-8e5c-3a033d9d1aee",
   "metadata": {},
   "source": [
    "## LAB-03"
   ]
  },
  {
   "cell_type": "code",
   "execution_count": 1,
   "id": "c59359cf-8730-40d4-8949-dbe8d8da302a",
   "metadata": {},
   "outputs": [],
   "source": [
    "#!pip install --upgrade numpy==1.24.3\n",
    "#!pip install --upgrade pandas==2.2.0\n",
    "#!pip install --upgrade scikit-learn==1.4.1.post1"
   ]
  },
  {
   "cell_type": "code",
   "execution_count": 32,
   "id": "e7524c36-147e-4a74-806c-8c15c04d25bd",
   "metadata": {},
   "outputs": [],
   "source": [
    "import numpy as np\n",
    "import pandas as pd\n",
    "import matplotlib.pyplot as plt\n",
    "\n",
    "import warnings\n",
    "warnings.filterwarnings('ignore')"
   ]
  },
  {
   "cell_type": "code",
   "execution_count": 3,
   "id": "2b54e39a-2d1f-45d0-92ad-81fd7ab756ca",
   "metadata": {},
   "outputs": [],
   "source": [
    "df =  pd.read_csv('Lab1_output_insurance.csv')"
   ]
  },
  {
   "cell_type": "code",
   "execution_count": 4,
   "id": "a9a1b46b-d08a-42a2-9271-f182b1e8c141",
   "metadata": {},
   "outputs": [
    {
     "name": "stdout",
     "output_type": "stream",
     "text": [
      "<class 'pandas.core.frame.DataFrame'>\n",
      "RangeIndex: 1338 entries, 0 to 1337\n",
      "Data columns (total 18 columns):\n",
      " #   Column               Non-Null Count  Dtype  \n",
      "---  ------               --------------  -----  \n",
      " 0   age                  1338 non-null   float64\n",
      " 1   sex                  1338 non-null   int64  \n",
      " 2   bmi                  1338 non-null   float64\n",
      " 3   children             1338 non-null   float64\n",
      " 4   smoker               1338 non-null   int64  \n",
      " 5   charges              1338 non-null   float64\n",
      " 6   avg_steps_per_day    1338 non-null   float64\n",
      " 7   gym_frequency        1338 non-null   int64  \n",
      " 8   time_spent_in_gym    1338 non-null   int64  \n",
      " 9   region_northeast     1338 non-null   bool   \n",
      " 10  region_northwest     1338 non-null   bool   \n",
      " 11  region_southeast     1338 non-null   bool   \n",
      " 12  region_southwest     1338 non-null   bool   \n",
      " 13  Occupation_Artist    1338 non-null   bool   \n",
      " 14  Occupation_Doctor    1338 non-null   bool   \n",
      " 15  Occupation_Engineer  1338 non-null   bool   \n",
      " 16  Occupation_Other     1338 non-null   bool   \n",
      " 17  Occupation_Teacher   1338 non-null   bool   \n",
      "dtypes: bool(9), float64(5), int64(4)\n",
      "memory usage: 106.0 KB\n"
     ]
    }
   ],
   "source": [
    "df.info()"
   ]
  },
  {
   "cell_type": "code",
   "execution_count": 5,
   "id": "2b06a23e-8320-4adb-ab3e-9e2b32c8df91",
   "metadata": {},
   "outputs": [],
   "source": [
    "X = df.drop('charges', axis = 1)\n",
    "y = df['charges']"
   ]
  },
  {
   "cell_type": "markdown",
   "id": "663ffd51-7cef-4cee-8e43-d6d5c0398cd9",
   "metadata": {},
   "source": [
    "#### Question-01"
   ]
  },
  {
   "cell_type": "code",
   "execution_count": 6,
   "id": "294878f2-4a88-4f41-af08-7f50667dec0a",
   "metadata": {},
   "outputs": [],
   "source": [
    "from sklearn.model_selection import train_test_split\n",
    "\n",
    "X_train_original, X_test_original, y_train, y_test = train_test_split(X, y, test_size=0.25, random_state=0)"
   ]
  },
  {
   "cell_type": "code",
   "execution_count": 7,
   "id": "4e2b9c5c-60cd-4c01-a4d3-1d5b6219aa10",
   "metadata": {},
   "outputs": [
    {
     "data": {
      "text/plain": [
       "39.16"
      ]
     },
     "execution_count": 7,
     "metadata": {},
     "output_type": "execute_result"
    }
   ],
   "source": [
    "X_train_original['age'].mean().round(2)"
   ]
  },
  {
   "cell_type": "markdown",
   "id": "28716951-23b6-459f-82e8-5f2102e4ee20",
   "metadata": {},
   "source": [
    "#### Question-02"
   ]
  },
  {
   "cell_type": "code",
   "execution_count": 8,
   "id": "3a4a7920-e52b-46bc-a72e-7588979f4ffd",
   "metadata": {},
   "outputs": [],
   "source": [
    "from sklearn.preprocessing import MinMaxScaler\n",
    "\n",
    "scaler = MinMaxScaler()\n",
    "scaler.fit(X_train_original)\n",
    "X_train_scaled = scaler.transform(X_train_original)\n",
    "X_test_scaled = scaler.transform(X_test_original)\n",
    "\n",
    "X_train_scaled_df = pd.DataFrame(X_train_scaled, columns=X.columns)\n",
    "X_test_scaled_df = pd.DataFrame(X_test_scaled, columns=X.columns)"
   ]
  },
  {
   "cell_type": "code",
   "execution_count": 9,
   "id": "ffb27dfe-3e3e-4036-b02e-664637404957",
   "metadata": {},
   "outputs": [
    {
     "data": {
      "text/plain": [
       "0.46"
      ]
     },
     "execution_count": 9,
     "metadata": {},
     "output_type": "execute_result"
    }
   ],
   "source": [
    "X_test_scaled_df['age'].mean().round(2)"
   ]
  },
  {
   "cell_type": "markdown",
   "id": "0dc9ff0d-9a16-459b-91a3-56cfba85307c",
   "metadata": {},
   "source": [
    "#### Question-03"
   ]
  },
  {
   "cell_type": "code",
   "execution_count": 10,
   "id": "9bb02fb4-c4e0-40ce-85be-1c38971193eb",
   "metadata": {},
   "outputs": [],
   "source": [
    "from scipy.stats import pearsonr\n",
    "\n",
    "correlation_coefficient, p_value = pearsonr(X_train_scaled_df['smoker'], y_train)"
   ]
  },
  {
   "cell_type": "code",
   "execution_count": 11,
   "id": "a42e3e0a-d3b2-44f8-ae46-4f690b81c9d7",
   "metadata": {},
   "outputs": [
    {
     "data": {
      "text/plain": [
       "-0.7"
      ]
     },
     "execution_count": 11,
     "metadata": {},
     "output_type": "execute_result"
    }
   ],
   "source": [
    "correlation_coefficient.round(2)"
   ]
  },
  {
   "cell_type": "markdown",
   "id": "87aa66e8-665a-4045-ac04-389932b3bc5d",
   "metadata": {},
   "source": [
    "#### Question-04:\n",
    "Since the absolute value of the pearson correlation coefficient is 0.70(between 0.4 and 0.8), there is moderate correlation between the predictor and response variables\n",
    "\n",
    "The Pearson correlation coefficient indicates a moderate correlation between the predictor variable and the response variable in an SLR context.\n",
    "\n",
    "Because of moderate correlation,\n",
    "\n",
    "The SLR's predictions could be scattered around the observed data points, and it may not effectively capture the variability in the response variable based on changes in the predictor variable.\n",
    "\n",
    "The resulting SLR model may have limited predictive power and may not provide accurate or meaningful predictions."
   ]
  },
  {
   "cell_type": "markdown",
   "id": "bd1492f7-5ed9-4795-a282-452988d45e52",
   "metadata": {},
   "source": [
    "#### Question-05:"
   ]
  },
  {
   "cell_type": "code",
   "execution_count": 12,
   "id": "075e20dd-5ab4-4ac7-952c-adf74d91edd0",
   "metadata": {},
   "outputs": [],
   "source": [
    "import statsmodels.api as sm\n",
    "from sklearn.model_selection import train_test_split\n",
    "from sklearn.metrics import r2_score\n",
    "\n",
    "X_train_smoker_df = X_train_original[['smoker']]  \n",
    "X_train_smoker = sm.add_constant(X_train_smoker_df)  \n",
    "slreg_model = sm.OLS(y_train, X_train_smoker).fit()\n",
    "\n",
    "y_pred_train = slreg_model.predict(X_train_smoker)\n",
    "r2_train = r2_score(y_train, y_pred_train)"
   ]
  },
  {
   "cell_type": "code",
   "execution_count": 13,
   "id": "47baace6-ae0e-421a-b8c8-1a0e6533b289",
   "metadata": {},
   "outputs": [
    {
     "data": {
      "text/plain": [
       "0.49"
      ]
     },
     "execution_count": 13,
     "metadata": {},
     "output_type": "execute_result"
    }
   ],
   "source": [
    "r2_train.round(2)"
   ]
  },
  {
   "cell_type": "markdown",
   "id": "b03f5dcb-89be-4ec5-a5e4-4374b25254d1",
   "metadata": {},
   "source": [
    "#### Question-06"
   ]
  },
  {
   "cell_type": "code",
   "execution_count": 14,
   "id": "f459570b-ad9d-427a-bbee-a0c94ce7907a",
   "metadata": {},
   "outputs": [
    {
     "data": {
      "text/html": [
       "<table class=\"simpletable\">\n",
       "<tr>\n",
       "        <td>Model:</td>               <td>OLS</td>         <td>Adj. R-squared:</td>      <td>0.491</td>  \n",
       "</tr>\n",
       "<tr>\n",
       "  <td>Dependent Variable:</td>      <td>charges</td>            <td>AIC:</td>         <td>21005.9939</td>\n",
       "</tr>\n",
       "<tr>\n",
       "         <td>Date:</td>        <td>2025-02-25 14:50</td>        <td>BIC:</td>         <td>21015.8154</td>\n",
       "</tr>\n",
       "<tr>\n",
       "   <td>No. Observations:</td>        <td>1003</td>         <td>Log-Likelihood:</td>     <td>-10501.</td> \n",
       "</tr>\n",
       "<tr>\n",
       "       <td>Df Model:</td>              <td>1</td>           <td>F-statistic:</td>        <td>967.6</td>  \n",
       "</tr>\n",
       "<tr>\n",
       "     <td>Df Residuals:</td>          <td>1001</td>       <td>Prob (F-statistic):</td>  <td>3.55e-149</td>\n",
       "</tr>\n",
       "<tr>\n",
       "      <td>R-squared:</td>            <td>0.492</td>            <td>Scale:</td>        <td>7.2805e+07</td>\n",
       "</tr>\n",
       "</table>\n",
       "<table class=\"simpletable\">\n",
       "<tr>\n",
       "     <td></td>       <th>Coef.</th>    <th>Std.Err.</th>     <th>t</th>     <th>P>|t|</th>   <th>[0.025</th>      <th>0.975]</th>   \n",
       "</tr>\n",
       "<tr>\n",
       "  <th>const</th>  <td>31196.6378</td>  <td>637.7553</td>  <td>48.9163</td> <td>0.0000</td> <td>29945.1471</td>  <td>32448.1285</td> \n",
       "</tr>\n",
       "<tr>\n",
       "  <th>smoker</th> <td>-21886.7923</td> <td>703.6245</td> <td>-31.1058</td> <td>0.0000</td> <td>-23267.5405</td> <td>-20506.0441</td>\n",
       "</tr>\n",
       "</table>\n",
       "<table class=\"simpletable\">\n",
       "<tr>\n",
       "     <td>Omnibus:</td>    <td>334.064</td>  <td>Durbin-Watson:</td>     <td>1.989</td> \n",
       "</tr>\n",
       "<tr>\n",
       "  <td>Prob(Omnibus):</td>  <td>0.000</td>  <td>Jarque-Bera (JB):</td> <td>1230.608</td>\n",
       "</tr>\n",
       "<tr>\n",
       "       <td>Skew:</td>      <td>1.576</td>      <td>Prob(JB):</td>       <td>0.000</td> \n",
       "</tr>\n",
       "<tr>\n",
       "     <td>Kurtosis:</td>    <td>7.417</td>   <td>Condition No.:</td>       <td>5</td>   \n",
       "</tr>\n",
       "</table><br/>\n",
       "Notes:<br/>\n",
       "[1] Standard Errors assume that the covariance matrix of the errors is correctly specified."
      ],
      "text/latex": [
       "\\begin{table}\n",
       "\\caption{Results: Ordinary least squares}\n",
       "\\label{}\n",
       "\\begin{center}\n",
       "\\begin{tabular}{llll}\n",
       "\\hline\n",
       "Model:              & OLS              & Adj. R-squared:     & 0.491       \\\\\n",
       "Dependent Variable: & charges          & AIC:                & 21005.9939  \\\\\n",
       "Date:               & 2025-02-25 14:50 & BIC:                & 21015.8154  \\\\\n",
       "No. Observations:   & 1003             & Log-Likelihood:     & -10501.     \\\\\n",
       "Df Model:           & 1                & F-statistic:        & 967.6       \\\\\n",
       "Df Residuals:       & 1001             & Prob (F-statistic): & 3.55e-149   \\\\\n",
       "R-squared:          & 0.492            & Scale:              & 7.2805e+07  \\\\\n",
       "\\hline\n",
       "\\end{tabular}\n",
       "\\end{center}\n",
       "\n",
       "\\begin{center}\n",
       "\\begin{tabular}{lrrrrrr}\n",
       "\\hline\n",
       "       &       Coef. & Std.Err. &        t & P$> |$t$|$ &      [0.025 &      0.975]  \\\\\n",
       "\\hline\n",
       "const  &  31196.6378 & 637.7553 &  48.9163 &      0.0000 &  29945.1471 &  32448.1285  \\\\\n",
       "smoker & -21886.7923 & 703.6245 & -31.1058 &      0.0000 & -23267.5405 & -20506.0441  \\\\\n",
       "\\hline\n",
       "\\end{tabular}\n",
       "\\end{center}\n",
       "\n",
       "\\begin{center}\n",
       "\\begin{tabular}{llll}\n",
       "\\hline\n",
       "Omnibus:       & 334.064 & Durbin-Watson:    & 1.989     \\\\\n",
       "Prob(Omnibus): & 0.000   & Jarque-Bera (JB): & 1230.608  \\\\\n",
       "Skew:          & 1.576   & Prob(JB):         & 0.000     \\\\\n",
       "Kurtosis:      & 7.417   & Condition No.:    & 5         \\\\\n",
       "\\hline\n",
       "\\end{tabular}\n",
       "\\end{center}\n",
       "\\end{table}\n",
       "\\bigskip\n",
       "Notes: \\newline \n",
       "[1] Standard Errors assume that the covariance matrix of the errors is correctly specified."
      ],
      "text/plain": [
       "<class 'statsmodels.iolib.summary2.Summary'>\n",
       "\"\"\"\n",
       "                  Results: Ordinary least squares\n",
       "===================================================================\n",
       "Model:              OLS              Adj. R-squared:     0.491     \n",
       "Dependent Variable: charges          AIC:                21005.9939\n",
       "Date:               2025-02-25 14:50 BIC:                21015.8154\n",
       "No. Observations:   1003             Log-Likelihood:     -10501.   \n",
       "Df Model:           1                F-statistic:        967.6     \n",
       "Df Residuals:       1001             Prob (F-statistic): 3.55e-149 \n",
       "R-squared:          0.492            Scale:              7.2805e+07\n",
       "-------------------------------------------------------------------\n",
       "          Coef.    Std.Err.    t     P>|t|     [0.025      0.975]  \n",
       "-------------------------------------------------------------------\n",
       "const   31196.6378 637.7553  48.9163 0.0000  29945.1471  32448.1285\n",
       "smoker -21886.7923 703.6245 -31.1058 0.0000 -23267.5405 -20506.0441\n",
       "-------------------------------------------------------------------\n",
       "Omnibus:             334.064       Durbin-Watson:          1.989   \n",
       "Prob(Omnibus):       0.000         Jarque-Bera (JB):       1230.608\n",
       "Skew:                1.576         Prob(JB):               0.000   \n",
       "Kurtosis:            7.417         Condition No.:          5       \n",
       "===================================================================\n",
       "Notes:\n",
       "[1] Standard Errors assume that the covariance matrix of the errors\n",
       "is correctly specified.\n",
       "\"\"\""
      ]
     },
     "execution_count": 14,
     "metadata": {},
     "output_type": "execute_result"
    }
   ],
   "source": [
    "import statsmodels.api as sm\n",
    "\n",
    "slreg_model.summary2()"
   ]
  },
  {
   "cell_type": "markdown",
   "id": "b7725123-06c3-4077-9ab6-da812a9ecc4e",
   "metadata": {},
   "source": [
    "smoker\t-21886.7923\t703.6245\t-31.1058\t0.0000\t-23267.5405\t-20506.0441\n",
    "\n",
    "Coefficient of smoker is -21886.7923"
   ]
  },
  {
   "cell_type": "markdown",
   "id": "fe4c19bb-8f18-4ace-9f47-fba7e3f9bf10",
   "metadata": {},
   "source": [
    "#### Question-07\n",
    "#### Since the p-value of smoker is 0.0000 which is less than 0.05, it has statistically significant relationship.\n",
    "#### Since the R value is 0.491(which is between 0.4 and 0.8), the model shows moderate correlation.\n",
    "#### The model shows a statistically significant relationship between the independent variable smoker and the dependent variable charges, with a moderate explanatory power."
   ]
  },
  {
   "cell_type": "markdown",
   "id": "224b5085-3252-4679-b71c-9d5030fe0f67",
   "metadata": {},
   "source": [
    "#### Question-08\n",
    "#### Since the Skewness is 1.576(>0), the distribution is right-skewed (or positively skewed), indicating that the right tail (higher values) is longer or fatter than the left tail. This means that there is a larger number of smaller values and a few very large values.\n",
    "#### Based on the calculated skewness , the distribution is highly right-skewed, so its violating normality assumption."
   ]
  },
  {
   "cell_type": "markdown",
   "id": "0725fbf5-42eb-4212-a254-d192931d42bc",
   "metadata": {},
   "source": [
    "#### Question-09"
   ]
  },
  {
   "cell_type": "code",
   "execution_count": 15,
   "id": "0befc7a5-e299-45d2-b48e-f414c6512b9e",
   "metadata": {},
   "outputs": [
    {
     "name": "stdout",
     "output_type": "stream",
     "text": [
      "[[ 1.00000000e+00 -1.80487924e-02  9.59682906e-02  7.55325718e-02\n",
      "   2.12290994e-02 -7.06355606e-01 -1.27368162e-01 -1.79012427e-01\n",
      "  -1.83003305e-02  6.39780139e-03 -1.54896438e-03  1.28092965e-02\n",
      "   2.46499891e-02  7.63689734e-02 -7.65733764e-02 -8.73418832e-04\n",
      "  -2.18353765e-02]\n",
      " [-1.80487924e-02  1.00000000e+00  4.03052423e-02  1.68852103e-02\n",
      "  -6.16573078e-02  3.22213711e-02 -1.17639368e-02 -2.56143053e-02\n",
      "  -1.34700353e-02 -9.60012670e-04  4.04270383e-02 -2.76971842e-02\n",
      "   3.00237709e-02 -2.47470357e-02 -2.59402994e-02  2.02889531e-02\n",
      "  -3.49191110e-03]\n",
      " [ 9.59682906e-02  4.03052423e-02  1.00000000e+00  2.63516908e-02\n",
      "   2.70730000e-02 -7.82859721e-02 -4.52434293e-02 -3.29813159e-02\n",
      "  -1.06357738e-01 -1.26645449e-01  2.57010780e-01 -3.86479533e-02\n",
      "  -4.54642303e-04  5.84617805e-02 -4.62362110e-02 -1.43309685e-02\n",
      "   6.43259170e-03]\n",
      " [ 7.55325718e-02  1.68852103e-02  2.63516908e-02  1.00000000e+00\n",
      "  -3.69998287e-02 -3.03782818e-02  1.57445432e-02 -5.26874902e-02\n",
      "  -1.68315354e-02  2.86166267e-02 -1.70379060e-02  5.61630612e-03\n",
      "   6.55078583e-02 -3.94824563e-02 -7.94538595e-03 -7.33748185e-03\n",
      "  -1.21033568e-02]\n",
      " [ 2.12290994e-02 -6.16573078e-02  2.70730000e-02 -3.69998287e-02\n",
      "   1.00000000e+00 -1.36182009e-02  1.29316493e-01  9.59517668e-02\n",
      "  -1.77616288e-02  2.33836538e-02 -6.98272656e-02  6.57876003e-02\n",
      "  -2.76296418e-02 -2.02657378e-02 -1.79902030e-03  3.91779019e-02\n",
      "   5.22515578e-03]\n",
      " [-7.06355606e-01  3.22213711e-02 -7.82859721e-02 -3.03782818e-02\n",
      "  -1.36182009e-02  1.00000000e+00  1.10882777e-01  1.51736074e-01\n",
      "  -6.49030982e-03  1.05577914e-03  1.29821860e-02 -8.15987624e-03\n",
      "  -2.77754790e-02 -8.99228937e-02  3.50232815e-02  1.16520713e-02\n",
      "   6.85656332e-02]\n",
      " [-1.27368162e-01 -1.17639368e-02 -4.52434293e-02  1.57445432e-02\n",
      "   1.29316493e-01  1.10882777e-01  1.00000000e+00  5.36929074e-01\n",
      "  -5.36049281e-02  2.02525572e-02  2.73046891e-03  2.85860882e-02\n",
      "   7.38764031e-02 -4.27312787e-02 -2.53538166e-02  3.47048660e-02\n",
      "  -4.83680371e-02]\n",
      " [-1.79012427e-01 -2.56143053e-02 -3.29813159e-02 -5.26874902e-02\n",
      "   9.59517668e-02  1.51736074e-01  5.36929074e-01  1.00000000e+00\n",
      "  -6.89838836e-02  2.05189270e-02  5.05489524e-03  4.06170247e-02\n",
      "   3.70174355e-02 -2.63790905e-02 -4.87082897e-03  5.14164289e-03\n",
      "  -1.31617288e-02]\n",
      " [-1.83003305e-02 -1.34700353e-02 -1.06357738e-01 -1.68315354e-02\n",
      "  -1.77616288e-02 -6.49030982e-03 -5.36049281e-02 -6.89838836e-02\n",
      "   1.00000000e+00 -3.01609358e-01 -3.34665796e-01 -3.16470459e-01\n",
      "   1.96658235e-02  1.87283700e-02  9.79245794e-03 -2.64731668e-02\n",
      "  -1.83308057e-02]\n",
      " [ 6.39780139e-03 -9.60012670e-04 -1.26645449e-01  2.86166267e-02\n",
      "   2.33836538e-02  1.05577914e-03  2.02525572e-02  2.05189270e-02\n",
      "  -3.01609358e-01  1.00000000e+00 -3.49022334e-01 -3.30046452e-01\n",
      "   1.97221352e-02 -4.09475838e-02 -2.52433779e-02  5.90412570e-04\n",
      "   4.53089449e-02]\n",
      " [-1.54896438e-03  4.04270383e-02  2.57010780e-01 -1.70379060e-02\n",
      "  -6.98272656e-02  1.29821860e-02  2.73046891e-03  5.05489524e-03\n",
      "  -3.34665796e-01 -3.49022334e-01  1.00000000e+00 -3.66219600e-01\n",
      "  -8.06850050e-03  8.36827577e-03 -2.70628200e-02  4.75899258e-02\n",
      "  -2.72881748e-02]\n",
      " [ 1.28092965e-02 -2.76971842e-02 -3.86479533e-02  5.61630612e-03\n",
      "   6.57876003e-02 -8.15987624e-03  2.85860882e-02  4.06170247e-02\n",
      "  -3.16470459e-01 -3.30046452e-01 -3.66219600e-01  1.00000000e+00\n",
      "  -2.97371524e-02  1.35067100e-02  4.30677927e-02 -2.41524148e-02\n",
      "   1.27376353e-03]\n",
      " [ 2.46499891e-02  3.00237709e-02 -4.54642303e-04  6.55078583e-02\n",
      "  -2.76296418e-02 -2.77754790e-02  7.38764031e-02  3.70174355e-02\n",
      "   1.96658235e-02  1.97221352e-02 -8.06850050e-03 -2.97371524e-02\n",
      "   1.00000000e+00 -2.25065529e-01 -2.36717478e-01 -2.95888679e-01\n",
      "  -2.28188972e-01]\n",
      " [ 7.63689734e-02 -2.47470357e-02  5.84617805e-02 -3.94824563e-02\n",
      "  -2.02657378e-02 -8.99228937e-02 -4.27312787e-02 -2.63790905e-02\n",
      "   1.87283700e-02 -4.09475838e-02  8.36827577e-03  1.35067100e-02\n",
      "  -2.25065529e-01  1.00000000e+00 -2.20757801e-01 -2.75939633e-01\n",
      "  -2.12804293e-01]\n",
      " [-7.65733764e-02 -2.59402994e-02 -4.62362110e-02 -7.94538595e-03\n",
      "  -1.79902030e-03  3.50232815e-02 -2.53538166e-02 -4.87082897e-03\n",
      "   9.79245794e-03 -2.52433779e-02 -2.70628200e-02  4.30677927e-02\n",
      "  -2.36717478e-01 -2.20757801e-01  1.00000000e+00 -2.90225403e-01\n",
      "  -2.23821461e-01]\n",
      " [-8.73418832e-04  2.02889531e-02 -1.43309685e-02 -7.33748185e-03\n",
      "   3.91779019e-02  1.16520713e-02  3.47048660e-02  5.14164289e-03\n",
      "  -2.64731668e-02  5.90412570e-04  4.75899258e-02 -2.41524148e-02\n",
      "  -2.95888679e-01 -2.75939633e-01 -2.90225403e-01  1.00000000e+00\n",
      "  -2.79769103e-01]\n",
      " [-2.18353765e-02 -3.49191110e-03  6.43259170e-03 -1.21033568e-02\n",
      "   5.22515578e-03  6.85656332e-02 -4.83680371e-02 -1.31617288e-02\n",
      "  -1.83308057e-02  4.53089449e-02 -2.72881748e-02  1.27376353e-03\n",
      "  -2.28188972e-01 -2.12804293e-01 -2.23821461e-01 -2.79769103e-01\n",
      "   1.00000000e+00]]\n"
     ]
    }
   ],
   "source": [
    "corr = X_train_original.corr()\n",
    "\n",
    "corr_matrix = corr.values\n",
    "print(corr_matrix)"
   ]
  },
  {
   "cell_type": "code",
   "execution_count": 16,
   "id": "7438b73d-bcb9-4f3e-b231-5e76aa4d8ea9",
   "metadata": {},
   "outputs": [
    {
     "name": "stdout",
     "output_type": "stream",
     "text": [
      "[[1.   0.02 0.1  0.08 0.02 0.71 0.13 0.18 0.02 0.01 0.   0.01 0.02 0.08\n",
      "  0.08 0.   0.02]\n",
      " [0.02 1.   0.04 0.02 0.06 0.03 0.01 0.03 0.01 0.   0.04 0.03 0.03 0.02\n",
      "  0.03 0.02 0.  ]\n",
      " [0.1  0.04 1.   0.03 0.03 0.08 0.05 0.03 0.11 0.13 0.26 0.04 0.   0.06\n",
      "  0.05 0.01 0.01]\n",
      " [0.08 0.02 0.03 1.   0.04 0.03 0.02 0.05 0.02 0.03 0.02 0.01 0.07 0.04\n",
      "  0.01 0.01 0.01]\n",
      " [0.02 0.06 0.03 0.04 1.   0.01 0.13 0.1  0.02 0.02 0.07 0.07 0.03 0.02\n",
      "  0.   0.04 0.01]\n",
      " [0.71 0.03 0.08 0.03 0.01 1.   0.11 0.15 0.01 0.   0.01 0.01 0.03 0.09\n",
      "  0.04 0.01 0.07]\n",
      " [0.13 0.01 0.05 0.02 0.13 0.11 1.   0.54 0.05 0.02 0.   0.03 0.07 0.04\n",
      "  0.03 0.03 0.05]\n",
      " [0.18 0.03 0.03 0.05 0.1  0.15 0.54 1.   0.07 0.02 0.01 0.04 0.04 0.03\n",
      "  0.   0.01 0.01]\n",
      " [0.02 0.01 0.11 0.02 0.02 0.01 0.05 0.07 1.   0.3  0.33 0.32 0.02 0.02\n",
      "  0.01 0.03 0.02]\n",
      " [0.01 0.   0.13 0.03 0.02 0.   0.02 0.02 0.3  1.   0.35 0.33 0.02 0.04\n",
      "  0.03 0.   0.05]\n",
      " [0.   0.04 0.26 0.02 0.07 0.01 0.   0.01 0.33 0.35 1.   0.37 0.01 0.01\n",
      "  0.03 0.05 0.03]\n",
      " [0.01 0.03 0.04 0.01 0.07 0.01 0.03 0.04 0.32 0.33 0.37 1.   0.03 0.01\n",
      "  0.04 0.02 0.  ]\n",
      " [0.02 0.03 0.   0.07 0.03 0.03 0.07 0.04 0.02 0.02 0.01 0.03 1.   0.23\n",
      "  0.24 0.3  0.23]\n",
      " [0.08 0.02 0.06 0.04 0.02 0.09 0.04 0.03 0.02 0.04 0.01 0.01 0.23 1.\n",
      "  0.22 0.28 0.21]\n",
      " [0.08 0.03 0.05 0.01 0.   0.04 0.03 0.   0.01 0.03 0.03 0.04 0.24 0.22\n",
      "  1.   0.29 0.22]\n",
      " [0.   0.02 0.01 0.01 0.04 0.01 0.03 0.01 0.03 0.   0.05 0.02 0.3  0.28\n",
      "  0.29 1.   0.28]\n",
      " [0.02 0.   0.01 0.01 0.01 0.07 0.05 0.01 0.02 0.05 0.03 0.   0.23 0.21\n",
      "  0.22 0.28 1.  ]]\n"
     ]
    }
   ],
   "source": [
    "rounded_corr_matrix = np.round(corr_matrix, decimals=2)\n",
    "print(abs(rounded_corr_matrix))"
   ]
  },
  {
   "cell_type": "code",
   "execution_count": 17,
   "id": "6b7d77a9-f297-4a7e-9c6a-67fe4a5ee7f6",
   "metadata": {},
   "outputs": [
    {
     "data": {
      "image/png": "[encoded data removed]",
      "text/plain": [
       "<Figure size 640x480 with 2 Axes>"
      ]
     },
     "metadata": {},
     "output_type": "display_data"
    }
   ],
   "source": [
    "%matplotlib inline\n",
    "\n",
    "plt.imshow(np.abs(corr_matrix))\n",
    "plt.colorbar()\n",
    "plt.xticks(range(X_train_original.shape[1]), X_train_original.columns, rotation=90)\n",
    "plt.yticks(range(X_train_original.shape[1]), X_train_original.columns)\n",
    "plt.show()"
   ]
  },
  {
   "cell_type": "markdown",
   "id": "4ec47f4b-9b51-4c11-abfe-f255f38cd2eb",
   "metadata": {},
   "source": [
    "From the above heatmap, we can see that age and avg_steps_per_day has high multi-collinearity. By dictionary order keeping age and dropping avg_steps_per_day."
   ]
  },
  {
   "cell_type": "markdown",
   "id": "a13e8d8c-e444-46aa-a2b2-73ffcd7a9213",
   "metadata": {},
   "source": [
    "#### Question-10"
   ]
  },
  {
   "cell_type": "code",
   "execution_count": 18,
   "id": "99e1de9c-833d-4168-a9c4-b0188ceb437a",
   "metadata": {},
   "outputs": [
    {
     "name": "stdout",
     "output_type": "stream",
     "text": [
      "<class 'pandas.core.frame.DataFrame'>\n",
      "RangeIndex: 1003 entries, 0 to 1002\n",
      "Data columns (total 16 columns):\n",
      " #   Column               Non-Null Count  Dtype  \n",
      "---  ------               --------------  -----  \n",
      " 0   age                  1003 non-null   float64\n",
      " 1   sex                  1003 non-null   float64\n",
      " 2   bmi                  1003 non-null   float64\n",
      " 3   children             1003 non-null   float64\n",
      " 4   smoker               1003 non-null   float64\n",
      " 5   gym_frequency        1003 non-null   float64\n",
      " 6   time_spent_in_gym    1003 non-null   float64\n",
      " 7   region_northeast     1003 non-null   float64\n",
      " 8   region_northwest     1003 non-null   float64\n",
      " 9   region_southeast     1003 non-null   float64\n",
      " 10  region_southwest     1003 non-null   float64\n",
      " 11  Occupation_Artist    1003 non-null   float64\n",
      " 12  Occupation_Doctor    1003 non-null   float64\n",
      " 13  Occupation_Engineer  1003 non-null   float64\n",
      " 14  Occupation_Other     1003 non-null   float64\n",
      " 15  Occupation_Teacher   1003 non-null   float64\n",
      "dtypes: float64(16)\n",
      "memory usage: 125.5 KB\n"
     ]
    }
   ],
   "source": [
    "X_train_ols = X_train_scaled_df.drop('avg_steps_per_day', axis = 1)\n",
    "X_train_ols.info()"
   ]
  },
  {
   "cell_type": "code",
   "execution_count": 19,
   "id": "5d2cfa26-15a0-41fc-b1e0-22478b6bae82",
   "metadata": {},
   "outputs": [],
   "source": [
    "import statsmodels.api as sm\n",
    "from sklearn.metrics import r2_score\n",
    "\n",
    "y_train = np.array(y_train).reshape(-1)\n",
    "X_train_ols = sm.add_constant(X_train_ols)\n",
    "mlreg_model = sm.OLS(y_train, X_train_ols).fit()\n",
    "y_pred = mlreg_model.predict(X_train_ols)\n",
    "r2_squared_ols = r2_score(y_train, y_pred)"
   ]
  },
  {
   "cell_type": "code",
   "execution_count": 20,
   "id": "9a4110ed-eeaf-4a8d-a33d-a726bf365d5a",
   "metadata": {},
   "outputs": [
    {
     "data": {
      "text/plain": [
       "0.615"
      ]
     },
     "execution_count": 20,
     "metadata": {},
     "output_type": "execute_result"
    }
   ],
   "source": [
    "r2_squared_ols.round(3)"
   ]
  },
  {
   "cell_type": "markdown",
   "id": "df1a5017-ee28-4747-91af-6efe35544a1a",
   "metadata": {},
   "source": [
    "#### Question-11"
   ]
  },
  {
   "cell_type": "code",
   "execution_count": 21,
   "id": "9a51f722-b80b-4a0b-8dab-6de8a4d9162a",
   "metadata": {},
   "outputs": [
    {
     "data": {
      "text/html": [
       "<table class=\"simpletable\">\n",
       "<caption>OLS Regression Results</caption>\n",
       "<tr>\n",
       "  <th>Dep. Variable:</th>            <td>y</td>        <th>  R-squared:         </th> <td>   0.615</td> \n",
       "</tr>\n",
       "<tr>\n",
       "  <th>Model:</th>                   <td>OLS</td>       <th>  Adj. R-squared:    </th> <td>   0.610</td> \n",
       "</tr>\n",
       "<tr>\n",
       "  <th>Method:</th>             <td>Least Squares</td>  <th>  F-statistic:       </th> <td>   112.9</td> \n",
       "</tr>\n",
       "<tr>\n",
       "  <th>Date:</th>             <td>Tue, 25 Feb 2025</td> <th>  Prob (F-statistic):</th> <td>1.24e-193</td>\n",
       "</tr>\n",
       "<tr>\n",
       "  <th>Time:</th>                 <td>14:50:09</td>     <th>  Log-Likelihood:    </th> <td> -10361.</td> \n",
       "</tr>\n",
       "<tr>\n",
       "  <th>No. Observations:</th>      <td>  1003</td>      <th>  AIC:               </th> <td>2.075e+04</td>\n",
       "</tr>\n",
       "<tr>\n",
       "  <th>Df Residuals:</th>          <td>   988</td>      <th>  BIC:               </th> <td>2.083e+04</td>\n",
       "</tr>\n",
       "<tr>\n",
       "  <th>Df Model:</th>              <td>    14</td>      <th>                     </th>     <td> </td>    \n",
       "</tr>\n",
       "<tr>\n",
       "  <th>Covariance Type:</th>      <td>nonrobust</td>    <th>                     </th>     <td> </td>    \n",
       "</tr>\n",
       "</table>\n",
       "<table class=\"simpletable\">\n",
       "<tr>\n",
       "           <td></td>              <th>coef</th>     <th>std err</th>      <th>t</th>      <th>P>|t|</th>  <th>[0.025</th>    <th>0.975]</th>  \n",
       "</tr>\n",
       "<tr>\n",
       "  <th>const</th>               <td> 1.531e+04</td> <td>  719.705</td> <td>   21.278</td> <td> 0.000</td> <td> 1.39e+04</td> <td> 1.67e+04</td>\n",
       "</tr>\n",
       "<tr>\n",
       "  <th>age</th>                 <td> 1.052e+04</td> <td>  845.107</td> <td>   12.452</td> <td> 0.000</td> <td> 8864.542</td> <td> 1.22e+04</td>\n",
       "</tr>\n",
       "<tr>\n",
       "  <th>sex</th>                 <td>  265.7971</td> <td>  474.114</td> <td>    0.561</td> <td> 0.575</td> <td> -664.589</td> <td> 1196.184</td>\n",
       "</tr>\n",
       "<tr>\n",
       "  <th>bmi</th>                 <td> 1.311e+04</td> <td> 1549.041</td> <td>    8.461</td> <td> 0.000</td> <td> 1.01e+04</td> <td> 1.61e+04</td>\n",
       "</tr>\n",
       "<tr>\n",
       "  <th>children</th>            <td> 2376.8959</td> <td>  980.097</td> <td>    2.425</td> <td> 0.015</td> <td>  453.585</td> <td> 4300.207</td>\n",
       "</tr>\n",
       "<tr>\n",
       "  <th>smoker</th>              <td>-2.182e+04</td> <td>  627.394</td> <td>  -34.781</td> <td> 0.000</td> <td>-2.31e+04</td> <td>-2.06e+04</td>\n",
       "</tr>\n",
       "<tr>\n",
       "  <th>gym_frequency</th>       <td>-1643.2852</td> <td>  779.721</td> <td>   -2.108</td> <td> 0.035</td> <td>-3173.385</td> <td> -113.185</td>\n",
       "</tr>\n",
       "<tr>\n",
       "  <th>time_spent_in_gym</th>   <td>-1328.3592</td> <td>  796.989</td> <td>   -1.667</td> <td> 0.096</td> <td>-2892.344</td> <td>  235.626</td>\n",
       "</tr>\n",
       "<tr>\n",
       "  <th>region_northeast</th>    <td> 4267.5320</td> <td>  448.121</td> <td>    9.523</td> <td> 0.000</td> <td> 3388.154</td> <td> 5146.910</td>\n",
       "</tr>\n",
       "<tr>\n",
       "  <th>region_northwest</th>    <td> 4034.7006</td> <td>  451.212</td> <td>    8.942</td> <td> 0.000</td> <td> 3149.256</td> <td> 4920.145</td>\n",
       "</tr>\n",
       "<tr>\n",
       "  <th>region_southeast</th>    <td> 3785.0579</td> <td>  465.507</td> <td>    8.131</td> <td> 0.000</td> <td> 2871.562</td> <td> 4698.554</td>\n",
       "</tr>\n",
       "<tr>\n",
       "  <th>region_southwest</th>    <td> 3226.4624</td> <td>  449.957</td> <td>    7.171</td> <td> 0.000</td> <td> 2343.481</td> <td> 4109.444</td>\n",
       "</tr>\n",
       "<tr>\n",
       "  <th>Occupation_Artist</th>   <td> 1939.4102</td> <td>  509.997</td> <td>    3.803</td> <td> 0.000</td> <td>  938.609</td> <td> 2940.212</td>\n",
       "</tr>\n",
       "<tr>\n",
       "  <th>Occupation_Doctor</th>   <td> 2669.1127</td> <td>  528.098</td> <td>    5.054</td> <td> 0.000</td> <td> 1632.790</td> <td> 3705.435</td>\n",
       "</tr>\n",
       "<tr>\n",
       "  <th>Occupation_Engineer</th> <td> 3389.2422</td> <td>  498.449</td> <td>    6.800</td> <td> 0.000</td> <td> 2411.101</td> <td> 4367.383</td>\n",
       "</tr>\n",
       "<tr>\n",
       "  <th>Occupation_Other</th>    <td> 3439.8072</td> <td>  449.773</td> <td>    7.648</td> <td> 0.000</td> <td> 2557.187</td> <td> 4322.428</td>\n",
       "</tr>\n",
       "<tr>\n",
       "  <th>Occupation_Teacher</th>  <td> 3876.1805</td> <td>  515.836</td> <td>    7.514</td> <td> 0.000</td> <td> 2863.921</td> <td> 4888.440</td>\n",
       "</tr>\n",
       "</table>\n",
       "<table class=\"simpletable\">\n",
       "<tr>\n",
       "  <th>Omnibus:</th>       <td>416.883</td> <th>  Durbin-Watson:     </th> <td>   2.026</td>\n",
       "</tr>\n",
       "<tr>\n",
       "  <th>Prob(Omnibus):</th> <td> 0.000</td>  <th>  Jarque-Bera (JB):  </th> <td>1915.419</td>\n",
       "</tr>\n",
       "<tr>\n",
       "  <th>Skew:</th>          <td> 1.921</td>  <th>  Prob(JB):          </th> <td>    0.00</td>\n",
       "</tr>\n",
       "<tr>\n",
       "  <th>Kurtosis:</th>      <td> 8.574</td>  <th>  Cond. No.          </th> <td>1.49e+16</td>\n",
       "</tr>\n",
       "</table><br/><br/>Notes:<br/>[1] Standard Errors assume that the covariance matrix of the errors is correctly specified.<br/>[2] The smallest eigenvalue is 1.63e-29. This might indicate that there are<br/>strong multicollinearity problems or that the design matrix is singular."
      ],
      "text/latex": [
       "\\begin{center}\n",
       "\\begin{tabular}{lclc}\n",
       "\\toprule\n",
       "\\textbf{Dep. Variable:}       &        y         & \\textbf{  R-squared:         } &     0.615   \\\\\n",
       "\\textbf{Model:}               &       OLS        & \\textbf{  Adj. R-squared:    } &     0.610   \\\\\n",
       "\\textbf{Method:}              &  Least Squares   & \\textbf{  F-statistic:       } &     112.9   \\\\\n",
       "\\textbf{Date:}                & Tue, 25 Feb 2025 & \\textbf{  Prob (F-statistic):} & 1.24e-193   \\\\\n",
       "\\textbf{Time:}                &     14:50:09     & \\textbf{  Log-Likelihood:    } &   -10361.   \\\\\n",
       "\\textbf{No. Observations:}    &        1003      & \\textbf{  AIC:               } & 2.075e+04   \\\\\n",
       "\\textbf{Df Residuals:}        &         988      & \\textbf{  BIC:               } & 2.083e+04   \\\\\n",
       "\\textbf{Df Model:}            &          14      & \\textbf{                     } &             \\\\\n",
       "\\textbf{Covariance Type:}     &    nonrobust     & \\textbf{                     } &             \\\\\n",
       "\\bottomrule\n",
       "\\end{tabular}\n",
       "\\begin{tabular}{lcccccc}\n",
       "                              & \\textbf{coef} & \\textbf{std err} & \\textbf{t} & \\textbf{P$> |$t$|$} & \\textbf{[0.025} & \\textbf{0.975]}  \\\\\n",
       "\\midrule\n",
       "\\textbf{const}                &    1.531e+04  &      719.705     &    21.278  &         0.000        &     1.39e+04    &     1.67e+04     \\\\\n",
       "\\textbf{age}                  &    1.052e+04  &      845.107     &    12.452  &         0.000        &     8864.542    &     1.22e+04     \\\\\n",
       "\\textbf{sex}                  &     265.7971  &      474.114     &     0.561  &         0.575        &     -664.589    &     1196.184     \\\\\n",
       "\\textbf{bmi}                  &    1.311e+04  &     1549.041     &     8.461  &         0.000        &     1.01e+04    &     1.61e+04     \\\\\n",
       "\\textbf{children}             &    2376.8959  &      980.097     &     2.425  &         0.015        &      453.585    &     4300.207     \\\\\n",
       "\\textbf{smoker}               &   -2.182e+04  &      627.394     &   -34.781  &         0.000        &    -2.31e+04    &    -2.06e+04     \\\\\n",
       "\\textbf{gym\\_frequency}       &   -1643.2852  &      779.721     &    -2.108  &         0.035        &    -3173.385    &     -113.185     \\\\\n",
       "\\textbf{time\\_spent\\_in\\_gym} &   -1328.3592  &      796.989     &    -1.667  &         0.096        &    -2892.344    &      235.626     \\\\\n",
       "\\textbf{region\\_northeast}    &    4267.5320  &      448.121     &     9.523  &         0.000        &     3388.154    &     5146.910     \\\\\n",
       "\\textbf{region\\_northwest}    &    4034.7006  &      451.212     &     8.942  &         0.000        &     3149.256    &     4920.145     \\\\\n",
       "\\textbf{region\\_southeast}    &    3785.0579  &      465.507     &     8.131  &         0.000        &     2871.562    &     4698.554     \\\\\n",
       "\\textbf{region\\_southwest}    &    3226.4624  &      449.957     &     7.171  &         0.000        &     2343.481    &     4109.444     \\\\\n",
       "\\textbf{Occupation\\_Artist}   &    1939.4102  &      509.997     &     3.803  &         0.000        &      938.609    &     2940.212     \\\\\n",
       "\\textbf{Occupation\\_Doctor}   &    2669.1127  &      528.098     &     5.054  &         0.000        &     1632.790    &     3705.435     \\\\\n",
       "\\textbf{Occupation\\_Engineer} &    3389.2422  &      498.449     &     6.800  &         0.000        &     2411.101    &     4367.383     \\\\\n",
       "\\textbf{Occupation\\_Other}    &    3439.8072  &      449.773     &     7.648  &         0.000        &     2557.187    &     4322.428     \\\\\n",
       "\\textbf{Occupation\\_Teacher}  &    3876.1805  &      515.836     &     7.514  &         0.000        &     2863.921    &     4888.440     \\\\\n",
       "\\bottomrule\n",
       "\\end{tabular}\n",
       "\\begin{tabular}{lclc}\n",
       "\\textbf{Omnibus:}       & 416.883 & \\textbf{  Durbin-Watson:     } &    2.026  \\\\\n",
       "\\textbf{Prob(Omnibus):} &   0.000 & \\textbf{  Jarque-Bera (JB):  } & 1915.419  \\\\\n",
       "\\textbf{Skew:}          &   1.921 & \\textbf{  Prob(JB):          } &     0.00  \\\\\n",
       "\\textbf{Kurtosis:}      &   8.574 & \\textbf{  Cond. No.          } & 1.49e+16  \\\\\n",
       "\\bottomrule\n",
       "\\end{tabular}\n",
       "%\\caption{OLS Regression Results}\n",
       "\\end{center}\n",
       "\n",
       "Notes: \\newline\n",
       " [1] Standard Errors assume that the covariance matrix of the errors is correctly specified. \\newline\n",
       " [2] The smallest eigenvalue is 1.63e-29. This might indicate that there are \\newline\n",
       " strong multicollinearity problems or that the design matrix is singular."
      ],
      "text/plain": [
       "<class 'statsmodels.iolib.summary.Summary'>\n",
       "\"\"\"\n",
       "                            OLS Regression Results                            \n",
       "==============================================================================\n",
       "Dep. Variable:                      y   R-squared:                       0.615\n",
       "Model:                            OLS   Adj. R-squared:                  0.610\n",
       "Method:                 Least Squares   F-statistic:                     112.9\n",
       "Date:                Tue, 25 Feb 2025   Prob (F-statistic):          1.24e-193\n",
       "Time:                        14:50:09   Log-Likelihood:                -10361.\n",
       "No. Observations:                1003   AIC:                         2.075e+04\n",
       "Df Residuals:                     988   BIC:                         2.083e+04\n",
       "Df Model:                          14                                         \n",
       "Covariance Type:            nonrobust                                         \n",
       "=======================================================================================\n",
       "                          coef    std err          t      P>|t|      [0.025      0.975]\n",
       "---------------------------------------------------------------------------------------\n",
       "const                1.531e+04    719.705     21.278      0.000    1.39e+04    1.67e+04\n",
       "age                  1.052e+04    845.107     12.452      0.000    8864.542    1.22e+04\n",
       "sex                   265.7971    474.114      0.561      0.575    -664.589    1196.184\n",
       "bmi                  1.311e+04   1549.041      8.461      0.000    1.01e+04    1.61e+04\n",
       "children             2376.8959    980.097      2.425      0.015     453.585    4300.207\n",
       "smoker              -2.182e+04    627.394    -34.781      0.000   -2.31e+04   -2.06e+04\n",
       "gym_frequency       -1643.2852    779.721     -2.108      0.035   -3173.385    -113.185\n",
       "time_spent_in_gym   -1328.3592    796.989     -1.667      0.096   -2892.344     235.626\n",
       "region_northeast     4267.5320    448.121      9.523      0.000    3388.154    5146.910\n",
       "region_northwest     4034.7006    451.212      8.942      0.000    3149.256    4920.145\n",
       "region_southeast     3785.0579    465.507      8.131      0.000    2871.562    4698.554\n",
       "region_southwest     3226.4624    449.957      7.171      0.000    2343.481    4109.444\n",
       "Occupation_Artist    1939.4102    509.997      3.803      0.000     938.609    2940.212\n",
       "Occupation_Doctor    2669.1127    528.098      5.054      0.000    1632.790    3705.435\n",
       "Occupation_Engineer  3389.2422    498.449      6.800      0.000    2411.101    4367.383\n",
       "Occupation_Other     3439.8072    449.773      7.648      0.000    2557.187    4322.428\n",
       "Occupation_Teacher   3876.1805    515.836      7.514      0.000    2863.921    4888.440\n",
       "==============================================================================\n",
       "Omnibus:                      416.883   Durbin-Watson:                   2.026\n",
       "Prob(Omnibus):                  0.000   Jarque-Bera (JB):             1915.419\n",
       "Skew:                           1.921   Prob(JB):                         0.00\n",
       "Kurtosis:                       8.574   Cond. No.                     1.49e+16\n",
       "==============================================================================\n",
       "\n",
       "Notes:\n",
       "[1] Standard Errors assume that the covariance matrix of the errors is correctly specified.\n",
       "[2] The smallest eigenvalue is 1.63e-29. This might indicate that there are\n",
       "strong multicollinearity problems or that the design matrix is singular.\n",
       "\"\"\""
      ]
     },
     "execution_count": 21,
     "metadata": {},
     "output_type": "execute_result"
    }
   ],
   "source": [
    "mlreg_model.summary()"
   ]
  },
  {
   "cell_type": "markdown",
   "id": "34dcc557-27c4-49f8-a57e-b6d7191a88aa",
   "metadata": {},
   "source": [
    "From the above summary of the model, we can see the p-values for each column. Based on the default 0.05 significance level, checking for non significant columns with p-value less than 0.05.\n",
    "\n",
    "Columns 'sex': p-value(0.575) and 'time_spent_in_gym': p-value(0.096) have p-values greater than 0.05. Hence, dropping the three columns."
   ]
  },
  {
   "cell_type": "markdown",
   "id": "ad2f5c01-adbd-4c68-8c78-0ab3bd16f9ac",
   "metadata": {},
   "source": [
    "#### Question-12"
   ]
  },
  {
   "cell_type": "code",
   "execution_count": 22,
   "id": "22f54346-9b08-4e98-8880-98331eea3bfb",
   "metadata": {},
   "outputs": [],
   "source": [
    "cols = ['sex', 'time_spent_in_gym']\n",
    "X_train_ols.drop(cols, axis = 1, inplace = True)"
   ]
  },
  {
   "cell_type": "code",
   "execution_count": 23,
   "id": "1cef9c22-7540-4ab5-ba99-cbc96e0ba2ff",
   "metadata": {},
   "outputs": [],
   "source": [
    "mlreg_model = sm.OLS(y_train, X_train_ols).fit()\n",
    "y_pred = mlreg_model.predict(X_train_ols)\n",
    "r2_squared = r2_score(y_train, y_pred)"
   ]
  },
  {
   "cell_type": "code",
   "execution_count": 24,
   "id": "ac3341b3-290f-49b5-8c7d-aacc42236da3",
   "metadata": {},
   "outputs": [
    {
     "data": {
      "text/plain": [
       "0.614"
      ]
     },
     "execution_count": 24,
     "metadata": {},
     "output_type": "execute_result"
    }
   ],
   "source": [
    "r2_squared.round(3)"
   ]
  },
  {
   "cell_type": "code",
   "execution_count": 25,
   "id": "dabd72f2-390b-4661-ac2e-607444e86d15",
   "metadata": {},
   "outputs": [
    {
     "data": {
      "text/html": [
       "<table class=\"simpletable\">\n",
       "<caption>OLS Regression Results</caption>\n",
       "<tr>\n",
       "  <th>Dep. Variable:</th>            <td>y</td>        <th>  R-squared:         </th> <td>   0.614</td> \n",
       "</tr>\n",
       "<tr>\n",
       "  <th>Model:</th>                   <td>OLS</td>       <th>  Adj. R-squared:    </th> <td>   0.609</td> \n",
       "</tr>\n",
       "<tr>\n",
       "  <th>Method:</th>             <td>Least Squares</td>  <th>  F-statistic:       </th> <td>   131.3</td> \n",
       "</tr>\n",
       "<tr>\n",
       "  <th>Date:</th>             <td>Tue, 25 Feb 2025</td> <th>  Prob (F-statistic):</th> <td>4.47e-195</td>\n",
       "</tr>\n",
       "<tr>\n",
       "  <th>Time:</th>                 <td>14:50:09</td>     <th>  Log-Likelihood:    </th> <td> -10363.</td> \n",
       "</tr>\n",
       "<tr>\n",
       "  <th>No. Observations:</th>      <td>  1003</td>      <th>  AIC:               </th> <td>2.075e+04</td>\n",
       "</tr>\n",
       "<tr>\n",
       "  <th>Df Residuals:</th>          <td>   990</td>      <th>  BIC:               </th> <td>2.082e+04</td>\n",
       "</tr>\n",
       "<tr>\n",
       "  <th>Df Model:</th>              <td>    12</td>      <th>                     </th>     <td> </td>    \n",
       "</tr>\n",
       "<tr>\n",
       "  <th>Covariance Type:</th>      <td>nonrobust</td>    <th>                     </th>     <td> </td>    \n",
       "</tr>\n",
       "</table>\n",
       "<table class=\"simpletable\">\n",
       "<tr>\n",
       "           <td></td>              <th>coef</th>     <th>std err</th>      <th>t</th>      <th>P>|t|</th>  <th>[0.025</th>    <th>0.975]</th>  \n",
       "</tr>\n",
       "<tr>\n",
       "  <th>const</th>               <td> 1.514e+04</td> <td>  678.560</td> <td>   22.305</td> <td> 0.000</td> <td> 1.38e+04</td> <td> 1.65e+04</td>\n",
       "</tr>\n",
       "<tr>\n",
       "  <th>age</th>                 <td> 1.069e+04</td> <td>  838.249</td> <td>   12.758</td> <td> 0.000</td> <td> 9049.068</td> <td> 1.23e+04</td>\n",
       "</tr>\n",
       "<tr>\n",
       "  <th>bmi</th>                 <td> 1.314e+04</td> <td> 1548.896</td> <td>    8.486</td> <td> 0.000</td> <td> 1.01e+04</td> <td> 1.62e+04</td>\n",
       "</tr>\n",
       "<tr>\n",
       "  <th>children</th>            <td> 2486.2390</td> <td>  978.676</td> <td>    2.540</td> <td> 0.011</td> <td>  565.722</td> <td> 4406.756</td>\n",
       "</tr>\n",
       "<tr>\n",
       "  <th>smoker</th>              <td>-2.188e+04</td> <td>  626.371</td> <td>  -34.926</td> <td> 0.000</td> <td>-2.31e+04</td> <td>-2.06e+04</td>\n",
       "</tr>\n",
       "<tr>\n",
       "  <th>gym_frequency</th>       <td>-2320.8218</td> <td>  667.090</td> <td>   -3.479</td> <td> 0.001</td> <td>-3629.895</td> <td>-1011.749</td>\n",
       "</tr>\n",
       "<tr>\n",
       "  <th>region_northeast</th>    <td> 4258.0791</td> <td>  446.281</td> <td>    9.541</td> <td> 0.000</td> <td> 3382.314</td> <td> 5133.845</td>\n",
       "</tr>\n",
       "<tr>\n",
       "  <th>region_northwest</th>    <td> 3980.6110</td> <td>  446.607</td> <td>    8.913</td> <td> 0.000</td> <td> 3104.206</td> <td> 4857.016</td>\n",
       "</tr>\n",
       "<tr>\n",
       "  <th>region_southeast</th>    <td> 3740.6705</td> <td>  460.467</td> <td>    8.124</td> <td> 0.000</td> <td> 2837.067</td> <td> 4644.274</td>\n",
       "</tr>\n",
       "<tr>\n",
       "  <th>region_southwest</th>    <td> 3156.0038</td> <td>  445.432</td> <td>    7.085</td> <td> 0.000</td> <td> 2281.905</td> <td> 4030.103</td>\n",
       "</tr>\n",
       "<tr>\n",
       "  <th>Occupation_Artist</th>   <td> 1906.5932</td> <td>  506.525</td> <td>    3.764</td> <td> 0.000</td> <td>  912.606</td> <td> 2900.580</td>\n",
       "</tr>\n",
       "<tr>\n",
       "  <th>Occupation_Doctor</th>   <td> 2623.9689</td> <td>  526.780</td> <td>    4.981</td> <td> 0.000</td> <td> 1590.235</td> <td> 3657.703</td>\n",
       "</tr>\n",
       "<tr>\n",
       "  <th>Occupation_Engineer</th> <td> 3349.1645</td> <td>  497.142</td> <td>    6.737</td> <td> 0.000</td> <td> 2373.591</td> <td> 4324.738</td>\n",
       "</tr>\n",
       "<tr>\n",
       "  <th>Occupation_Other</th>    <td> 3422.5037</td> <td>  447.090</td> <td>    7.655</td> <td> 0.000</td> <td> 2545.150</td> <td> 4299.857</td>\n",
       "</tr>\n",
       "<tr>\n",
       "  <th>Occupation_Teacher</th>  <td> 3833.1341</td> <td>  513.656</td> <td>    7.462</td> <td> 0.000</td> <td> 2825.154</td> <td> 4841.115</td>\n",
       "</tr>\n",
       "</table>\n",
       "<table class=\"simpletable\">\n",
       "<tr>\n",
       "  <th>Omnibus:</th>       <td>420.013</td> <th>  Durbin-Watson:     </th> <td>   2.025</td>\n",
       "</tr>\n",
       "<tr>\n",
       "  <th>Prob(Omnibus):</th> <td> 0.000</td>  <th>  Jarque-Bera (JB):  </th> <td>1946.053</td>\n",
       "</tr>\n",
       "<tr>\n",
       "  <th>Skew:</th>          <td> 1.935</td>  <th>  Prob(JB):          </th> <td>    0.00</td>\n",
       "</tr>\n",
       "<tr>\n",
       "  <th>Kurtosis:</th>      <td> 8.621</td>  <th>  Cond. No.          </th> <td>8.80e+15</td>\n",
       "</tr>\n",
       "</table><br/><br/>Notes:<br/>[1] Standard Errors assume that the covariance matrix of the errors is correctly specified.<br/>[2] The smallest eigenvalue is 3.9e-29. This might indicate that there are<br/>strong multicollinearity problems or that the design matrix is singular."
      ],
      "text/latex": [
       "\\begin{center}\n",
       "\\begin{tabular}{lclc}\n",
       "\\toprule\n",
       "\\textbf{Dep. Variable:}       &        y         & \\textbf{  R-squared:         } &     0.614   \\\\\n",
       "\\textbf{Model:}               &       OLS        & \\textbf{  Adj. R-squared:    } &     0.609   \\\\\n",
       "\\textbf{Method:}              &  Least Squares   & \\textbf{  F-statistic:       } &     131.3   \\\\\n",
       "\\textbf{Date:}                & Tue, 25 Feb 2025 & \\textbf{  Prob (F-statistic):} & 4.47e-195   \\\\\n",
       "\\textbf{Time:}                &     14:50:09     & \\textbf{  Log-Likelihood:    } &   -10363.   \\\\\n",
       "\\textbf{No. Observations:}    &        1003      & \\textbf{  AIC:               } & 2.075e+04   \\\\\n",
       "\\textbf{Df Residuals:}        &         990      & \\textbf{  BIC:               } & 2.082e+04   \\\\\n",
       "\\textbf{Df Model:}            &          12      & \\textbf{                     } &             \\\\\n",
       "\\textbf{Covariance Type:}     &    nonrobust     & \\textbf{                     } &             \\\\\n",
       "\\bottomrule\n",
       "\\end{tabular}\n",
       "\\begin{tabular}{lcccccc}\n",
       "                              & \\textbf{coef} & \\textbf{std err} & \\textbf{t} & \\textbf{P$> |$t$|$} & \\textbf{[0.025} & \\textbf{0.975]}  \\\\\n",
       "\\midrule\n",
       "\\textbf{const}                &    1.514e+04  &      678.560     &    22.305  &         0.000        &     1.38e+04    &     1.65e+04     \\\\\n",
       "\\textbf{age}                  &    1.069e+04  &      838.249     &    12.758  &         0.000        &     9049.068    &     1.23e+04     \\\\\n",
       "\\textbf{bmi}                  &    1.314e+04  &     1548.896     &     8.486  &         0.000        &     1.01e+04    &     1.62e+04     \\\\\n",
       "\\textbf{children}             &    2486.2390  &      978.676     &     2.540  &         0.011        &      565.722    &     4406.756     \\\\\n",
       "\\textbf{smoker}               &   -2.188e+04  &      626.371     &   -34.926  &         0.000        &    -2.31e+04    &    -2.06e+04     \\\\\n",
       "\\textbf{gym\\_frequency}       &   -2320.8218  &      667.090     &    -3.479  &         0.001        &    -3629.895    &    -1011.749     \\\\\n",
       "\\textbf{region\\_northeast}    &    4258.0791  &      446.281     &     9.541  &         0.000        &     3382.314    &     5133.845     \\\\\n",
       "\\textbf{region\\_northwest}    &    3980.6110  &      446.607     &     8.913  &         0.000        &     3104.206    &     4857.016     \\\\\n",
       "\\textbf{region\\_southeast}    &    3740.6705  &      460.467     &     8.124  &         0.000        &     2837.067    &     4644.274     \\\\\n",
       "\\textbf{region\\_southwest}    &    3156.0038  &      445.432     &     7.085  &         0.000        &     2281.905    &     4030.103     \\\\\n",
       "\\textbf{Occupation\\_Artist}   &    1906.5932  &      506.525     &     3.764  &         0.000        &      912.606    &     2900.580     \\\\\n",
       "\\textbf{Occupation\\_Doctor}   &    2623.9689  &      526.780     &     4.981  &         0.000        &     1590.235    &     3657.703     \\\\\n",
       "\\textbf{Occupation\\_Engineer} &    3349.1645  &      497.142     &     6.737  &         0.000        &     2373.591    &     4324.738     \\\\\n",
       "\\textbf{Occupation\\_Other}    &    3422.5037  &      447.090     &     7.655  &         0.000        &     2545.150    &     4299.857     \\\\\n",
       "\\textbf{Occupation\\_Teacher}  &    3833.1341  &      513.656     &     7.462  &         0.000        &     2825.154    &     4841.115     \\\\\n",
       "\\bottomrule\n",
       "\\end{tabular}\n",
       "\\begin{tabular}{lclc}\n",
       "\\textbf{Omnibus:}       & 420.013 & \\textbf{  Durbin-Watson:     } &    2.025  \\\\\n",
       "\\textbf{Prob(Omnibus):} &   0.000 & \\textbf{  Jarque-Bera (JB):  } & 1946.053  \\\\\n",
       "\\textbf{Skew:}          &   1.935 & \\textbf{  Prob(JB):          } &     0.00  \\\\\n",
       "\\textbf{Kurtosis:}      &   8.621 & \\textbf{  Cond. No.          } & 8.80e+15  \\\\\n",
       "\\bottomrule\n",
       "\\end{tabular}\n",
       "%\\caption{OLS Regression Results}\n",
       "\\end{center}\n",
       "\n",
       "Notes: \\newline\n",
       " [1] Standard Errors assume that the covariance matrix of the errors is correctly specified. \\newline\n",
       " [2] The smallest eigenvalue is 3.9e-29. This might indicate that there are \\newline\n",
       " strong multicollinearity problems or that the design matrix is singular."
      ],
      "text/plain": [
       "<class 'statsmodels.iolib.summary.Summary'>\n",
       "\"\"\"\n",
       "                            OLS Regression Results                            \n",
       "==============================================================================\n",
       "Dep. Variable:                      y   R-squared:                       0.614\n",
       "Model:                            OLS   Adj. R-squared:                  0.609\n",
       "Method:                 Least Squares   F-statistic:                     131.3\n",
       "Date:                Tue, 25 Feb 2025   Prob (F-statistic):          4.47e-195\n",
       "Time:                        14:50:09   Log-Likelihood:                -10363.\n",
       "No. Observations:                1003   AIC:                         2.075e+04\n",
       "Df Residuals:                     990   BIC:                         2.082e+04\n",
       "Df Model:                          12                                         \n",
       "Covariance Type:            nonrobust                                         \n",
       "=======================================================================================\n",
       "                          coef    std err          t      P>|t|      [0.025      0.975]\n",
       "---------------------------------------------------------------------------------------\n",
       "const                1.514e+04    678.560     22.305      0.000    1.38e+04    1.65e+04\n",
       "age                  1.069e+04    838.249     12.758      0.000    9049.068    1.23e+04\n",
       "bmi                  1.314e+04   1548.896      8.486      0.000    1.01e+04    1.62e+04\n",
       "children             2486.2390    978.676      2.540      0.011     565.722    4406.756\n",
       "smoker              -2.188e+04    626.371    -34.926      0.000   -2.31e+04   -2.06e+04\n",
       "gym_frequency       -2320.8218    667.090     -3.479      0.001   -3629.895   -1011.749\n",
       "region_northeast     4258.0791    446.281      9.541      0.000    3382.314    5133.845\n",
       "region_northwest     3980.6110    446.607      8.913      0.000    3104.206    4857.016\n",
       "region_southeast     3740.6705    460.467      8.124      0.000    2837.067    4644.274\n",
       "region_southwest     3156.0038    445.432      7.085      0.000    2281.905    4030.103\n",
       "Occupation_Artist    1906.5932    506.525      3.764      0.000     912.606    2900.580\n",
       "Occupation_Doctor    2623.9689    526.780      4.981      0.000    1590.235    3657.703\n",
       "Occupation_Engineer  3349.1645    497.142      6.737      0.000    2373.591    4324.738\n",
       "Occupation_Other     3422.5037    447.090      7.655      0.000    2545.150    4299.857\n",
       "Occupation_Teacher   3833.1341    513.656      7.462      0.000    2825.154    4841.115\n",
       "==============================================================================\n",
       "Omnibus:                      420.013   Durbin-Watson:                   2.025\n",
       "Prob(Omnibus):                  0.000   Jarque-Bera (JB):             1946.053\n",
       "Skew:                           1.935   Prob(JB):                         0.00\n",
       "Kurtosis:                       8.621   Cond. No.                     8.80e+15\n",
       "==============================================================================\n",
       "\n",
       "Notes:\n",
       "[1] Standard Errors assume that the covariance matrix of the errors is correctly specified.\n",
       "[2] The smallest eigenvalue is 3.9e-29. This might indicate that there are\n",
       "strong multicollinearity problems or that the design matrix is singular.\n",
       "\"\"\""
      ]
     },
     "execution_count": 25,
     "metadata": {},
     "output_type": "execute_result"
    }
   ],
   "source": [
    "mlreg_model.summary()"
   ]
  },
  {
   "cell_type": "markdown",
   "id": "588da8a6-8be9-4741-94d2-4340da3257ec",
   "metadata": {},
   "source": [
    "#### Question-13"
   ]
  },
  {
   "cell_type": "markdown",
   "id": "a5697633-43cc-471e-9ae3-fea6c69c59d2",
   "metadata": {},
   "source": [
    "From the plot displaying fitted values vs. residuals, the mean of all residuals is approximately zero."
   ]
  },
  {
   "cell_type": "markdown",
   "id": "d4b1db66-2c84-4b7a-b0e5-43eb3b0e3f35",
   "metadata": {},
   "source": [
    "#### Question 14"
   ]
  },
  {
   "cell_type": "markdown",
   "id": "40078d92-23c5-4f28-9373-b6807d4f4ed8",
   "metadata": {},
   "source": [
    "Since R-squared value is 0.614, the model explains over 60% of the variance in the dependent variable charges, indicating a relatively strong fit.\n",
    "\n",
    "The residual plot indicates potential heteroscedasticity, with a spread of residuals that varies with the level of fitted values.\n",
    "\n",
    "All the predictors included in the model are statistically significant, as suggested by their p-values.\n"
   ]
  },
  {
   "cell_type": "markdown",
   "id": "26d463d0-1200-4aeb-9a70-9c7551f2ab7a",
   "metadata": {},
   "source": [
    "#### Question-15"
   ]
  },
  {
   "cell_type": "code",
   "execution_count": 26,
   "id": "dd1f0e32-1a18-4187-a2aa-b4249a7c0579",
   "metadata": {},
   "outputs": [],
   "source": [
    "from sklearn.linear_model import LinearRegression\n",
    "from sklearn.metrics import r2_score\n",
    "\n",
    "scaler = MinMaxScaler()\n",
    "X_train_scaled = scaler.fit_transform(X_train_original)\n",
    "X_test_scaled = scaler.transform(X_test_original)\n",
    "\n",
    "lregmodel = LinearRegression()\n",
    "lregmodel.fit(X_train_scaled, y_train)\n",
    "\n",
    "y_train_pred = lregmodel.predict(X_train_scaled)\n",
    "r2_mlgr_train = r2_score(y_train, y_train_pred)"
   ]
  },
  {
   "cell_type": "code",
   "execution_count": 27,
   "id": "5d02ba13-735d-4edf-94e9-cf6145f42f0e",
   "metadata": {},
   "outputs": [
    {
     "data": {
      "text/plain": [
       "0.62"
      ]
     },
     "execution_count": 27,
     "metadata": {},
     "output_type": "execute_result"
    }
   ],
   "source": [
    "round(r2_mlgr_train,2)"
   ]
  },
  {
   "cell_type": "markdown",
   "id": "0edd1f17-8a9e-4bfd-93d5-517e7b142ad5",
   "metadata": {},
   "source": [
    "#### Question-16"
   ]
  },
  {
   "cell_type": "code",
   "execution_count": 28,
   "id": "9abde2c2-23cd-452f-b461-e822a8930e82",
   "metadata": {},
   "outputs": [],
   "source": [
    "from sklearn.preprocessing import MinMaxScaler\n",
    "from sklearn.linear_model import LinearRegression\n",
    "from sklearn.metrics import r2_score\n",
    "\n",
    "y_test_pred = lregmodel.predict(X_test_scaled)\n",
    "r2_mlgr_test = r2_score(y_test, y_test_pred)"
   ]
  },
  {
   "cell_type": "code",
   "execution_count": 29,
   "id": "54de8341-cb39-4bc7-bb0e-5516e0db15a3",
   "metadata": {},
   "outputs": [
    {
     "data": {
      "text/plain": [
       "0.7"
      ]
     },
     "execution_count": 29,
     "metadata": {},
     "output_type": "execute_result"
    }
   ],
   "source": [
    "round(r2_mlgr_test,2)"
   ]
  },
  {
   "cell_type": "markdown",
   "id": "79a9f58b-64e7-4a67-8231-66e0782fe41c",
   "metadata": {},
   "source": [
    "#### Question-17"
   ]
  },
  {
   "cell_type": "markdown",
   "id": "d7d864b7-8de8-4db2-b19f-8f6adb17a69f",
   "metadata": {},
   "source": [
    "R2 score of the scaled train dataset: 0.62\n",
    "R2 score of the scaled test dataframe: 0.70\n",
    "\n",
    "Based on the R2-score computed in the previous two lab questions, this model is a good fit considering the available train and test datasets"
   ]
  },
  {
   "cell_type": "markdown",
   "id": "82f0fa0b-4d1b-49d6-bf0d-3fc2af6b4a5d",
   "metadata": {},
   "source": [
    "#### Question-18"
   ]
  },
  {
   "cell_type": "code",
   "execution_count": 30,
   "id": "d6b649df-eefb-4514-a013-bd206911662a",
   "metadata": {},
   "outputs": [
    {
     "name": "stdout",
     "output_type": "stream",
     "text": [
      "Maximum Iterations:  15\n",
      "Train R-squared-value:  0.591\n",
      "Test R-squared-value:  0.661\n",
      "------------------------------\n",
      "Maximum Iterations:  20\n",
      "Train R-squared-value:  0.602\n",
      "Test R-squared-value:  0.676\n",
      "------------------------------\n",
      "Maximum Iterations:  50\n",
      "Train R-squared-value:  0.612\n",
      "Test R-squared-value:  0.693\n",
      "------------------------------\n",
      "Maximum Iterations:  100\n",
      "Train R-squared-value:  0.614\n",
      "Test R-squared-value:  0.696\n",
      "------------------------------\n"
     ]
    }
   ],
   "source": [
    "from sklearn.linear_model import SGDRegressor\n",
    "\n",
    "max_iter_values = [15, 20, 50, 100]\n",
    "for max_iter in max_iter_values:\n",
    "    sgd = SGDRegressor(random_state=0, max_iter=max_iter)\n",
    "    sgd.fit(X_train_scaled, y_train)\n",
    "    \n",
    "    print(\"Maximum Iterations: \", max_iter)\n",
    "    print(\"Train R-squared-value: \", sgd.score(X_train_scaled, y_train).round(3))\n",
    "    print(\"Test R-squared-value: \", sgd.score(X_test_scaled, y_test).round(3))\n",
    "    print('-'*30)"
   ]
  },
  {
   "cell_type": "markdown",
   "id": "90fa323a-3e2f-4253-8ce1-6c18fb996d34",
   "metadata": {},
   "source": [
    "The performance of the SGDRegressor machine learning model improves as the value of the max_iter parameter is increased(from 15 to 100) during training.\n",
    "The SGDRegressor model complexity increases while we are increasing the max_iter.\n",
    "Increase in computational complexity, as more iterations generally require more computations."
   ]
  },
  {
   "cell_type": "markdown",
   "id": "921f719d-f4ce-4a38-b4e2-c0ba736d46a8",
   "metadata": {},
   "source": [
    "#### Question-19"
   ]
  },
  {
   "cell_type": "code",
   "execution_count": 31,
   "id": "ade871e6-f638-4b17-97ea-6e26eac4eb6b",
   "metadata": {},
   "outputs": [
    {
     "name": "stdout",
     "output_type": "stream",
     "text": [
      "Learning Rate: constant\n",
      "Train R-squared-value:  0.19882164139058478\n",
      "Test R-squared-value:  0.33946134685353035\n",
      "--------------------------------------------------\n",
      "Learning Rate: optimal\n",
      "Train R-squared-value:  0.3946999193804699\n",
      "Test R-squared-value:  0.42170382413697327\n",
      "--------------------------------------------------\n",
      "Learning Rate: invscaling\n",
      "Train R-squared-value:  0.6130723727562541\n",
      "Test R-squared-value:  0.6942736922044577\n",
      "--------------------------------------------------\n",
      "Learning Rate: adaptive\n",
      "Train R-squared-value:  0.6173757314736862\n",
      "Test R-squared-value:  0.7024001346521549\n",
      "--------------------------------------------------\n"
     ]
    }
   ],
   "source": [
    "from sklearn.linear_model import SGDRegressor\n",
    "\n",
    "learning_rate_options = ['constant', 'optimal', 'invscaling', 'adaptive']\n",
    "\n",
    "for learning_rate in learning_rate_options:\n",
    "  if learning_rate == 'optimal':\n",
    "    sgd = SGDRegressor(random_state=0, max_iter=1000, learning_rate=learning_rate, alpha=0.2)\n",
    "  else:\n",
    "    sgd = SGDRegressor(random_state=0, max_iter=1000, learning_rate=learning_rate, eta0=0.2)\n",
    "  sgd.fit(X_train_scaled, y_train)\n",
    "\n",
    "  print(f'Learning Rate: {learning_rate}')\n",
    "  print('Train R-squared-value: ', sgd.score(X_train_scaled, y_train))\n",
    "  print('Test R-squared-value: ', sgd.score(X_test_scaled, y_test))\n",
    "  print('-'*50)"
   ]
  },
  {
   "cell_type": "markdown",
   "id": "23f751f9-a1e8-4d90-b8f8-f9e9e3833b1c",
   "metadata": {},
   "source": [
    "Learning Rate: 'constant', eta0 = 0.2:\n",
    "Train R2-score: 0.1988, Validation R2-score: 0.3395\n",
    "\n",
    "Learning Rate: 'optimal', alpha = 0.2:\n",
    "Train R2-score: 0.3947, Validation R2-score: 0.4217\n",
    "\n",
    "Learning Rate: 'invscaling', eta0 = 0.2:\n",
    "Train R2-score: 0.6131, Validation R2-score: 0.6943\n",
    "\n",
    "Learning Rate: 'adaptive', eta0 = 0.2:\n",
    "Train R2-score: 0.6174, Validation R2-score: 0.7024\n",
    "\n",
    "adaptive learning rate strategy with eta0 = 0.2 is the most effective"
   ]
  },
  {
   "cell_type": "code",
   "execution_count": null,
   "id": "abbc721f-a0f3-4204-b246-f8b1a8cb5e9e",
   "metadata": {},
   "outputs": [],
   "source": []
  }
 ],
 "metadata": {
  "kernelspec": {
   "display_name": "Python 3 (ipykernel)",
   "language": "python",
   "name": "python3"
  },
  "language_info": {
   "codemirror_mode": {
    "name": "ipython",
    "version": 3
   },
   "file_extension": ".py",
   "mimetype": "text/x-python",
   "name": "python",
   "nbconvert_exporter": "python",
   "pygments_lexer": "ipython3",
   "version": "3.12.6"
  }
 },
 "nbformat": 4,
 "nbformat_minor": 5
}
