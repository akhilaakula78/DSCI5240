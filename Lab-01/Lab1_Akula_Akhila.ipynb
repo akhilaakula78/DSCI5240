{
 "cells": [
  {
   "cell_type": "code",
   "execution_count": 1,
   "id": "c59359cf-8730-40d4-8949-dbe8d8da302a",
   "metadata": {},
   "outputs": [
    {
     "name": "stdout",
     "output_type": "stream",
     "text": [
      "Collecting numpy==1.24.3\n",
      "  Using cached numpy-1.24.3.tar.gz (10.9 MB)\n",
      "  Installing build dependencies: started\n",
      "  Installing build dependencies: finished with status 'done'\n",
      "  Getting requirements to build wheel: started\n",
      "  Getting requirements to build wheel: finished with status 'error'\n"
     ]
    },
    {
     "name": "stderr",
     "output_type": "stream",
     "text": [
      "  error: subprocess-exited-with-error\n",
      "  \n",
      "  Getting requirements to build wheel did not run successfully.\n",
      "  exit code: 1\n",
      "  \n",
      "  [33 lines of output]\n",
      "  Traceback (most recent call last):\n",
      "    File \"C:\\Users\\aa2893\\AppData\\Local\\Programs\\Python\\Python312\\Lib\\site-packages\\pip\\_vendor\\pyproject_hooks\\_in_process\\_in_process.py\", line 389, in <module>\n",
      "      main()\n",
      "    File \"C:\\Users\\aa2893\\AppData\\Local\\Programs\\Python\\Python312\\Lib\\site-packages\\pip\\_vendor\\pyproject_hooks\\_in_process\\_in_process.py\", line 373, in main\n",
      "      json_out[\"return_val\"] = hook(**hook_input[\"kwargs\"])\n",
      "                               ^^^^^^^^^^^^^^^^^^^^^^^^^^^^\n",
      "    File \"C:\\Users\\aa2893\\AppData\\Local\\Programs\\Python\\Python312\\Lib\\site-packages\\pip\\_vendor\\pyproject_hooks\\_in_process\\_in_process.py\", line 137, in get_requires_for_build_wheel\n",
      "      backend = _build_backend()\n",
      "                ^^^^^^^^^^^^^^^^\n",
      "    File \"C:\\Users\\aa2893\\AppData\\Local\\Programs\\Python\\Python312\\Lib\\site-packages\\pip\\_vendor\\pyproject_hooks\\_in_process\\_in_process.py\", line 70, in _build_backend\n",
      "      obj = import_module(mod_path)\n",
      "            ^^^^^^^^^^^^^^^^^^^^^^^\n",
      "    File \"C:\\Users\\aa2893\\AppData\\Local\\Programs\\Python\\Python312\\Lib\\importlib\\__init__.py\", line 90, in import_module\n",
      "      return _bootstrap._gcd_import(name[level:], package, level)\n",
      "             ^^^^^^^^^^^^^^^^^^^^^^^^^^^^^^^^^^^^^^^^^^^^^^^^^^^^\n",
      "    File \"<frozen importlib._bootstrap>\", line 1387, in _gcd_import\n",
      "    File \"<frozen importlib._bootstrap>\", line 1360, in _find_and_load\n",
      "    File \"<frozen importlib._bootstrap>\", line 1310, in _find_and_load_unlocked\n",
      "    File \"<frozen importlib._bootstrap>\", line 488, in _call_with_frames_removed\n",
      "    File \"<frozen importlib._bootstrap>\", line 1387, in _gcd_import\n",
      "    File \"<frozen importlib._bootstrap>\", line 1360, in _find_and_load\n",
      "    File \"<frozen importlib._bootstrap>\", line 1331, in _find_and_load_unlocked\n",
      "    File \"<frozen importlib._bootstrap>\", line 935, in _load_unlocked\n",
      "    File \"<frozen importlib._bootstrap_external>\", line 995, in exec_module\n",
      "    File \"<frozen importlib._bootstrap>\", line 488, in _call_with_frames_removed\n",
      "    File \"C:\\Users\\aa2893\\AppData\\Local\\Temp\\pip-build-env-bp6fj3ap\\overlay\\Lib\\site-packages\\setuptools\\__init__.py\", line 16, in <module>\n",
      "      import setuptools.version\n",
      "    File \"C:\\Users\\aa2893\\AppData\\Local\\Temp\\pip-build-env-bp6fj3ap\\overlay\\Lib\\site-packages\\setuptools\\version.py\", line 1, in <module>\n",
      "      import pkg_resources\n",
      "    File \"C:\\Users\\aa2893\\AppData\\Local\\Temp\\pip-build-env-bp6fj3ap\\overlay\\Lib\\site-packages\\pkg_resources\\__init__.py\", line 2172, in <module>\n",
      "      register_finder(pkgutil.ImpImporter, find_on_path)\n",
      "                      ^^^^^^^^^^^^^^^^^^^\n",
      "  AttributeError: module 'pkgutil' has no attribute 'ImpImporter'. Did you mean: 'zipimporter'?\n",
      "  [end of output]\n",
      "  \n",
      "  note: This error originates from a subprocess, and is likely not a problem with pip.\n",
      "error: subprocess-exited-with-error\n",
      "\n",
      "Getting requirements to build wheel did not run successfully.\n",
      "exit code: 1\n",
      "\n",
      "See above for output.\n",
      "\n",
      "note: This error originates from a subprocess, and is likely not a problem with pip.\n"
     ]
    },
    {
     "name": "stdout",
     "output_type": "stream",
     "text": [
      "Requirement already satisfied: pandas==2.2.0 in c:\\users\\aa2893\\appdata\\local\\programs\\python\\python312\\lib\\site-packages (2.2.0)\n",
      "Requirement already satisfied: numpy<2,>=1.26.0 in c:\\users\\aa2893\\appdata\\local\\programs\\python\\python312\\lib\\site-packages (from pandas==2.2.0) (1.26.4)\n",
      "Requirement already satisfied: python-dateutil>=2.8.2 in c:\\users\\aa2893\\appdata\\local\\programs\\python\\python312\\lib\\site-packages (from pandas==2.2.0) (2.9.0.post0)\n",
      "Requirement already satisfied: pytz>=2020.1 in c:\\users\\aa2893\\appdata\\local\\programs\\python\\python312\\lib\\site-packages (from pandas==2.2.0) (2025.1)\n",
      "Requirement already satisfied: tzdata>=2022.7 in c:\\users\\aa2893\\appdata\\local\\programs\\python\\python312\\lib\\site-packages (from pandas==2.2.0) (2025.1)\n",
      "Requirement already satisfied: six>=1.5 in c:\\users\\aa2893\\appdata\\local\\programs\\python\\python312\\lib\\site-packages (from python-dateutil>=2.8.2->pandas==2.2.0) (1.17.0)\n",
      "Requirement already satisfied: scikit-learn==1.4.0 in c:\\users\\aa2893\\appdata\\local\\programs\\python\\python312\\lib\\site-packages (1.4.0)\n",
      "Requirement already satisfied: numpy<2.0,>=1.19.5 in c:\\users\\aa2893\\appdata\\local\\programs\\python\\python312\\lib\\site-packages (from scikit-learn==1.4.0) (1.26.4)\n",
      "Requirement already satisfied: scipy>=1.6.0 in c:\\users\\aa2893\\appdata\\local\\programs\\python\\python312\\lib\\site-packages (from scikit-learn==1.4.0) (1.15.2)\n",
      "Requirement already satisfied: joblib>=1.2.0 in c:\\users\\aa2893\\appdata\\local\\programs\\python\\python312\\lib\\site-packages (from scikit-learn==1.4.0) (1.4.2)\n",
      "Requirement already satisfied: threadpoolctl>=2.0.0 in c:\\users\\aa2893\\appdata\\local\\programs\\python\\python312\\lib\\site-packages (from scikit-learn==1.4.0) (3.5.0)\n"
     ]
    }
   ],
   "source": [
    "!pip install --upgrade numpy==1.24.3\n",
    "!pip install --upgrade pandas==2.2.0\n",
    "!pip install --upgrade scikit-learn==1.4.0"
   ]
  },
  {
   "cell_type": "code",
   "execution_count": 2,
   "id": "e7524c36-147e-4a74-806c-8c15c04d25bd",
   "metadata": {},
   "outputs": [
    {
     "name": "stderr",
     "output_type": "stream",
     "text": [
      "C:\\Users\\aa2893\\AppData\\Local\\Temp\\ipykernel_10300\\1662815981.py:2: DeprecationWarning: \n",
      "Pyarrow will become a required dependency of pandas in the next major release of pandas (pandas 3.0),\n",
      "(to allow more performant data types, such as the Arrow string type, and better interoperability with other libraries)\n",
      "but was not found to be installed on your system.\n",
      "If this would cause problems for you,\n",
      "please provide us feedback at https://github.com/pandas-dev/pandas/issues/54466\n",
      "        \n",
      "  import pandas as pd\n"
     ]
    }
   ],
   "source": [
    "import numpy as np\n",
    "import pandas as pd"
   ]
  },
  {
   "cell_type": "code",
   "execution_count": 3,
   "id": "2b54e39a-2d1f-45d0-92ad-81fd7ab756ca",
   "metadata": {},
   "outputs": [],
   "source": [
    "df =  pd.read_csv('Insurance.csv')"
   ]
  },
  {
   "cell_type": "code",
   "execution_count": 4,
   "id": "a9a1b46b-d08a-42a2-9271-f182b1e8c141",
   "metadata": {},
   "outputs": [
    {
     "data": {
      "text/html": [
       "<div>\n",
       "<style scoped>\n",
       "    .dataframe tbody tr th:only-of-type {\n",
       "        vertical-align: middle;\n",
       "    }\n",
       "\n",
       "    .dataframe tbody tr th {\n",
       "        vertical-align: top;\n",
       "    }\n",
       "\n",
       "    .dataframe thead th {\n",
       "        text-align: right;\n",
       "    }\n",
       "</style>\n",
       "<table border=\"1\" class=\"dataframe\">\n",
       "  <thead>\n",
       "    <tr style=\"text-align: right;\">\n",
       "      <th></th>\n",
       "      <th>age</th>\n",
       "      <th>sex</th>\n",
       "      <th>bmi</th>\n",
       "      <th>children</th>\n",
       "      <th>smoker</th>\n",
       "      <th>region</th>\n",
       "      <th>charges</th>\n",
       "      <th>occupation</th>\n",
       "      <th>avg_steps_per_day</th>\n",
       "      <th>gym_frequency</th>\n",
       "      <th>time_spent_in_gym</th>\n",
       "    </tr>\n",
       "  </thead>\n",
       "  <tbody>\n",
       "    <tr>\n",
       "      <th>0</th>\n",
       "      <td>19.0</td>\n",
       "      <td>female</td>\n",
       "      <td>27.900</td>\n",
       "      <td>0.0</td>\n",
       "      <td>yes</td>\n",
       "      <td>southwest</td>\n",
       "      <td>16884.92400</td>\n",
       "      <td>Other</td>\n",
       "      <td>NaN</td>\n",
       "      <td>1 or 2 days a week</td>\n",
       "      <td>45</td>\n",
       "    </tr>\n",
       "    <tr>\n",
       "      <th>1</th>\n",
       "      <td>18.0</td>\n",
       "      <td>male</td>\n",
       "      <td>NaN</td>\n",
       "      <td>1.0</td>\n",
       "      <td>no</td>\n",
       "      <td>southeast</td>\n",
       "      <td>1725.55230</td>\n",
       "      <td>Engineer</td>\n",
       "      <td>8900.0</td>\n",
       "      <td>NaN</td>\n",
       "      <td>30</td>\n",
       "    </tr>\n",
       "    <tr>\n",
       "      <th>2</th>\n",
       "      <td>28.0</td>\n",
       "      <td>male</td>\n",
       "      <td>33.000</td>\n",
       "      <td>3.0</td>\n",
       "      <td>no</td>\n",
       "      <td>NaN</td>\n",
       "      <td>4449.46200</td>\n",
       "      <td>Artist</td>\n",
       "      <td>8900.0</td>\n",
       "      <td>everyday</td>\n",
       "      <td>45</td>\n",
       "    </tr>\n",
       "    <tr>\n",
       "      <th>3</th>\n",
       "      <td>33.0</td>\n",
       "      <td>male</td>\n",
       "      <td>22.705</td>\n",
       "      <td>0.0</td>\n",
       "      <td>no</td>\n",
       "      <td>NaN</td>\n",
       "      <td>21984.47061</td>\n",
       "      <td>Artist</td>\n",
       "      <td>7900.0</td>\n",
       "      <td>1 or 2 days a week</td>\n",
       "      <td>60</td>\n",
       "    </tr>\n",
       "    <tr>\n",
       "      <th>4</th>\n",
       "      <td>32.0</td>\n",
       "      <td>male</td>\n",
       "      <td>28.880</td>\n",
       "      <td>0.0</td>\n",
       "      <td>no</td>\n",
       "      <td>northwest</td>\n",
       "      <td>3866.85520</td>\n",
       "      <td>Artist</td>\n",
       "      <td>NaN</td>\n",
       "      <td>3 to 5 days of a week</td>\n",
       "      <td>60</td>\n",
       "    </tr>\n",
       "  </tbody>\n",
       "</table>\n",
       "</div>"
      ],
      "text/plain": [
       "    age     sex     bmi  children smoker     region      charges occupation  \\\n",
       "0  19.0  female  27.900       0.0    yes  southwest  16884.92400      Other   \n",
       "1  18.0    male     NaN       1.0     no  southeast   1725.55230   Engineer   \n",
       "2  28.0    male  33.000       3.0     no        NaN   4449.46200     Artist   \n",
       "3  33.0    male  22.705       0.0     no        NaN  21984.47061     Artist   \n",
       "4  32.0    male  28.880       0.0     no  northwest   3866.85520     Artist   \n",
       "\n",
       "   avg_steps_per_day          gym_frequency  time_spent_in_gym  \n",
       "0                NaN     1 or 2 days a week                 45  \n",
       "1             8900.0                    NaN                 30  \n",
       "2             8900.0               everyday                 45  \n",
       "3             7900.0     1 or 2 days a week                 60  \n",
       "4                NaN  3 to 5 days of a week                 60  "
      ]
     },
     "execution_count": 4,
     "metadata": {},
     "output_type": "execute_result"
    }
   ],
   "source": [
    "df.head()"
   ]
  },
  {
   "cell_type": "code",
   "execution_count": 5,
   "id": "b9427f2c-0a6b-4502-a0e8-06a7e80f7167",
   "metadata": {},
   "outputs": [
    {
     "data": {
      "text/plain": [
       "6.896317434434025"
      ]
     },
     "execution_count": 5,
     "metadata": {},
     "output_type": "execute_result"
    }
   ],
   "source": [
    "#Question 1:\n",
    "100 - 100 * df.count().sum() / df.size"
   ]
  },
  {
   "cell_type": "code",
   "execution_count": 6,
   "id": "a1979153-0379-4853-8492-062704ef5473",
   "metadata": {},
   "outputs": [],
   "source": [
    "#100 - 100 * df.count().sum() / (df.shape[0] * df.shape[1])"
   ]
  },
  {
   "cell_type": "code",
   "execution_count": 7,
   "id": "b4feb014-573a-4106-8423-89b42d5c1828",
   "metadata": {},
   "outputs": [],
   "source": [
    "#Answer: 6.89"
   ]
  },
  {
   "cell_type": "code",
   "execution_count": 8,
   "id": "a592c805-19a7-4596-a69f-cbff00f37282",
   "metadata": {},
   "outputs": [
    {
     "data": {
      "text/html": [
       "<div>\n",
       "<style scoped>\n",
       "    .dataframe tbody tr th:only-of-type {\n",
       "        vertical-align: middle;\n",
       "    }\n",
       "\n",
       "    .dataframe tbody tr th {\n",
       "        vertical-align: top;\n",
       "    }\n",
       "\n",
       "    .dataframe thead th {\n",
       "        text-align: right;\n",
       "    }\n",
       "</style>\n",
       "<table border=\"1\" class=\"dataframe\">\n",
       "  <thead>\n",
       "    <tr style=\"text-align: right;\">\n",
       "      <th></th>\n",
       "      <th>age</th>\n",
       "      <th>bmi</th>\n",
       "      <th>children</th>\n",
       "      <th>charges</th>\n",
       "      <th>avg_steps_per_day</th>\n",
       "      <th>time_spent_in_gym</th>\n",
       "    </tr>\n",
       "  </thead>\n",
       "  <tbody>\n",
       "    <tr>\n",
       "      <th>count</th>\n",
       "      <td>1258.000000</td>\n",
       "      <td>1220.000000</td>\n",
       "      <td>1177.000000</td>\n",
       "      <td>1338.000000</td>\n",
       "      <td>1193.000000</td>\n",
       "      <td>1338.000000</td>\n",
       "    </tr>\n",
       "    <tr>\n",
       "      <th>mean</th>\n",
       "      <td>37.476153</td>\n",
       "      <td>30.725066</td>\n",
       "      <td>1.123195</td>\n",
       "      <td>13270.422265</td>\n",
       "      <td>7813.914501</td>\n",
       "      <td>33.363229</td>\n",
       "    </tr>\n",
       "    <tr>\n",
       "      <th>std</th>\n",
       "      <td>15.935575</td>\n",
       "      <td>6.099268</td>\n",
       "      <td>1.218877</td>\n",
       "      <td>12110.011237</td>\n",
       "      <td>1461.396150</td>\n",
       "      <td>21.437067</td>\n",
       "    </tr>\n",
       "    <tr>\n",
       "      <th>min</th>\n",
       "      <td>-1.000000</td>\n",
       "      <td>15.960000</td>\n",
       "      <td>0.000000</td>\n",
       "      <td>1121.873900</td>\n",
       "      <td>3000.000000</td>\n",
       "      <td>0.000000</td>\n",
       "    </tr>\n",
       "    <tr>\n",
       "      <th>25%</th>\n",
       "      <td>25.000000</td>\n",
       "      <td>26.378750</td>\n",
       "      <td>0.000000</td>\n",
       "      <td>4740.287150</td>\n",
       "      <td>6800.000000</td>\n",
       "      <td>15.000000</td>\n",
       "    </tr>\n",
       "    <tr>\n",
       "      <th>50%</th>\n",
       "      <td>38.000000</td>\n",
       "      <td>30.495000</td>\n",
       "      <td>1.000000</td>\n",
       "      <td>9382.033000</td>\n",
       "      <td>7900.000000</td>\n",
       "      <td>30.000000</td>\n",
       "    </tr>\n",
       "    <tr>\n",
       "      <th>75%</th>\n",
       "      <td>51.000000</td>\n",
       "      <td>34.717500</td>\n",
       "      <td>2.000000</td>\n",
       "      <td>16639.912515</td>\n",
       "      <td>9000.000000</td>\n",
       "      <td>45.000000</td>\n",
       "    </tr>\n",
       "    <tr>\n",
       "      <th>max</th>\n",
       "      <td>64.000000</td>\n",
       "      <td>53.130000</td>\n",
       "      <td>5.000000</td>\n",
       "      <td>63770.428010</td>\n",
       "      <td>11700.000000</td>\n",
       "      <td>60.000000</td>\n",
       "    </tr>\n",
       "  </tbody>\n",
       "</table>\n",
       "</div>"
      ],
      "text/plain": [
       "               age          bmi     children       charges  avg_steps_per_day  \\\n",
       "count  1258.000000  1220.000000  1177.000000   1338.000000        1193.000000   \n",
       "mean     37.476153    30.725066     1.123195  13270.422265        7813.914501   \n",
       "std      15.935575     6.099268     1.218877  12110.011237        1461.396150   \n",
       "min      -1.000000    15.960000     0.000000   1121.873900        3000.000000   \n",
       "25%      25.000000    26.378750     0.000000   4740.287150        6800.000000   \n",
       "50%      38.000000    30.495000     1.000000   9382.033000        7900.000000   \n",
       "75%      51.000000    34.717500     2.000000  16639.912515        9000.000000   \n",
       "max      64.000000    53.130000     5.000000  63770.428010       11700.000000   \n",
       "\n",
       "       time_spent_in_gym  \n",
       "count        1338.000000  \n",
       "mean           33.363229  \n",
       "std            21.437067  \n",
       "min             0.000000  \n",
       "25%            15.000000  \n",
       "50%            30.000000  \n",
       "75%            45.000000  \n",
       "max            60.000000  "
      ]
     },
     "execution_count": 8,
     "metadata": {},
     "output_type": "execute_result"
    }
   ],
   "source": [
    "#Question 2:\n",
    "df.describe()"
   ]
  },
  {
   "cell_type": "code",
   "execution_count": 9,
   "id": "7099209f-7230-4aa8-b6e6-431794991a2e",
   "metadata": {},
   "outputs": [],
   "source": [
    "#Answer:Replace the minimum value of -1 under the age column with np.nan, indicating a sentinel value.\n",
    "df['age'] = df['age'].replace(-1, np.nan)"
   ]
  },
  {
   "cell_type": "code",
   "execution_count": 10,
   "id": "245d2cb5-389b-43a9-99ff-80845d869f03",
   "metadata": {},
   "outputs": [
    {
     "data": {
      "text/html": [
       "<div>\n",
       "<style scoped>\n",
       "    .dataframe tbody tr th:only-of-type {\n",
       "        vertical-align: middle;\n",
       "    }\n",
       "\n",
       "    .dataframe tbody tr th {\n",
       "        vertical-align: top;\n",
       "    }\n",
       "\n",
       "    .dataframe thead th {\n",
       "        text-align: right;\n",
       "    }\n",
       "</style>\n",
       "<table border=\"1\" class=\"dataframe\">\n",
       "  <thead>\n",
       "    <tr style=\"text-align: right;\">\n",
       "      <th></th>\n",
       "      <th>age</th>\n",
       "      <th>bmi</th>\n",
       "      <th>children</th>\n",
       "      <th>charges</th>\n",
       "      <th>avg_steps_per_day</th>\n",
       "      <th>time_spent_in_gym</th>\n",
       "    </tr>\n",
       "  </thead>\n",
       "  <tbody>\n",
       "    <tr>\n",
       "      <th>count</th>\n",
       "      <td>1204.000000</td>\n",
       "      <td>1220.000000</td>\n",
       "      <td>1177.000000</td>\n",
       "      <td>1338.000000</td>\n",
       "      <td>1193.000000</td>\n",
       "      <td>1338.000000</td>\n",
       "    </tr>\n",
       "    <tr>\n",
       "      <th>mean</th>\n",
       "      <td>39.201827</td>\n",
       "      <td>30.725066</td>\n",
       "      <td>1.123195</td>\n",
       "      <td>13270.422265</td>\n",
       "      <td>7813.914501</td>\n",
       "      <td>33.363229</td>\n",
       "    </tr>\n",
       "    <tr>\n",
       "      <th>std</th>\n",
       "      <td>13.996733</td>\n",
       "      <td>6.099268</td>\n",
       "      <td>1.218877</td>\n",
       "      <td>12110.011237</td>\n",
       "      <td>1461.396150</td>\n",
       "      <td>21.437067</td>\n",
       "    </tr>\n",
       "    <tr>\n",
       "      <th>min</th>\n",
       "      <td>18.000000</td>\n",
       "      <td>15.960000</td>\n",
       "      <td>0.000000</td>\n",
       "      <td>1121.873900</td>\n",
       "      <td>3000.000000</td>\n",
       "      <td>0.000000</td>\n",
       "    </tr>\n",
       "    <tr>\n",
       "      <th>25%</th>\n",
       "      <td>27.000000</td>\n",
       "      <td>26.378750</td>\n",
       "      <td>0.000000</td>\n",
       "      <td>4740.287150</td>\n",
       "      <td>6800.000000</td>\n",
       "      <td>15.000000</td>\n",
       "    </tr>\n",
       "    <tr>\n",
       "      <th>50%</th>\n",
       "      <td>39.000000</td>\n",
       "      <td>30.495000</td>\n",
       "      <td>1.000000</td>\n",
       "      <td>9382.033000</td>\n",
       "      <td>7900.000000</td>\n",
       "      <td>30.000000</td>\n",
       "    </tr>\n",
       "    <tr>\n",
       "      <th>75%</th>\n",
       "      <td>51.000000</td>\n",
       "      <td>34.717500</td>\n",
       "      <td>2.000000</td>\n",
       "      <td>16639.912515</td>\n",
       "      <td>9000.000000</td>\n",
       "      <td>45.000000</td>\n",
       "    </tr>\n",
       "    <tr>\n",
       "      <th>max</th>\n",
       "      <td>64.000000</td>\n",
       "      <td>53.130000</td>\n",
       "      <td>5.000000</td>\n",
       "      <td>63770.428010</td>\n",
       "      <td>11700.000000</td>\n",
       "      <td>60.000000</td>\n",
       "    </tr>\n",
       "  </tbody>\n",
       "</table>\n",
       "</div>"
      ],
      "text/plain": [
       "               age          bmi     children       charges  avg_steps_per_day  \\\n",
       "count  1204.000000  1220.000000  1177.000000   1338.000000        1193.000000   \n",
       "mean     39.201827    30.725066     1.123195  13270.422265        7813.914501   \n",
       "std      13.996733     6.099268     1.218877  12110.011237        1461.396150   \n",
       "min      18.000000    15.960000     0.000000   1121.873900        3000.000000   \n",
       "25%      27.000000    26.378750     0.000000   4740.287150        6800.000000   \n",
       "50%      39.000000    30.495000     1.000000   9382.033000        7900.000000   \n",
       "75%      51.000000    34.717500     2.000000  16639.912515        9000.000000   \n",
       "max      64.000000    53.130000     5.000000  63770.428010       11700.000000   \n",
       "\n",
       "       time_spent_in_gym  \n",
       "count        1338.000000  \n",
       "mean           33.363229  \n",
       "std            21.437067  \n",
       "min             0.000000  \n",
       "25%            15.000000  \n",
       "50%            30.000000  \n",
       "75%            45.000000  \n",
       "max            60.000000  "
      ]
     },
     "execution_count": 10,
     "metadata": {},
     "output_type": "execute_result"
    }
   ],
   "source": [
    "df.describe()"
   ]
  },
  {
   "cell_type": "code",
   "execution_count": 11,
   "id": "878e7b83-64dd-4729-86bd-4d95454a1be0",
   "metadata": {},
   "outputs": [
    {
     "data": {
      "text/html": [
       "<div>\n",
       "<style scoped>\n",
       "    .dataframe tbody tr th:only-of-type {\n",
       "        vertical-align: middle;\n",
       "    }\n",
       "\n",
       "    .dataframe tbody tr th {\n",
       "        vertical-align: top;\n",
       "    }\n",
       "\n",
       "    .dataframe thead th {\n",
       "        text-align: right;\n",
       "    }\n",
       "</style>\n",
       "<table border=\"1\" class=\"dataframe\">\n",
       "  <thead>\n",
       "    <tr style=\"text-align: right;\">\n",
       "      <th></th>\n",
       "      <th>sex</th>\n",
       "      <th>smoker</th>\n",
       "      <th>region</th>\n",
       "      <th>occupation</th>\n",
       "      <th>gym_frequency</th>\n",
       "    </tr>\n",
       "  </thead>\n",
       "  <tbody>\n",
       "    <tr>\n",
       "      <th>count</th>\n",
       "      <td>1338</td>\n",
       "      <td>1203</td>\n",
       "      <td>1210</td>\n",
       "      <td>1221</td>\n",
       "      <td>1207</td>\n",
       "    </tr>\n",
       "    <tr>\n",
       "      <th>unique</th>\n",
       "      <td>2</td>\n",
       "      <td>2</td>\n",
       "      <td>4</td>\n",
       "      <td>5</td>\n",
       "      <td>4</td>\n",
       "    </tr>\n",
       "    <tr>\n",
       "      <th>top</th>\n",
       "      <td>male</td>\n",
       "      <td>no</td>\n",
       "      <td>southeast</td>\n",
       "      <td>Artist</td>\n",
       "      <td>everyday</td>\n",
       "    </tr>\n",
       "    <tr>\n",
       "      <th>freq</th>\n",
       "      <td>676</td>\n",
       "      <td>963</td>\n",
       "      <td>330</td>\n",
       "      <td>257</td>\n",
       "      <td>402</td>\n",
       "    </tr>\n",
       "  </tbody>\n",
       "</table>\n",
       "</div>"
      ],
      "text/plain": [
       "         sex smoker     region occupation gym_frequency\n",
       "count   1338   1203       1210       1221          1207\n",
       "unique     2      2          4          5             4\n",
       "top     male     no  southeast     Artist      everyday\n",
       "freq     676    963        330        257           402"
      ]
     },
     "execution_count": 11,
     "metadata": {},
     "output_type": "execute_result"
    }
   ],
   "source": [
    "#Question 3:\n",
    "df.describe(include= ['O'])"
   ]
  },
  {
   "cell_type": "code",
   "execution_count": 12,
   "id": "aa7257d8-df31-462a-b557-213bacee20c4",
   "metadata": {},
   "outputs": [],
   "source": [
    "#Answer: There are 5 columns with object datatype in the dataset."
   ]
  },
  {
   "cell_type": "code",
   "execution_count": 13,
   "id": "7c4422c4-9862-4313-a2be-2561a74db60b",
   "metadata": {},
   "outputs": [
    {
     "data": {
      "text/plain": [
       "39.20921450151057"
      ]
     },
     "execution_count": 13,
     "metadata": {},
     "output_type": "execute_result"
    }
   ],
   "source": [
    "#Question 4:\n",
    "mean_age_by_gym_frequency = df.groupby('gym_frequency')['age'].mean().round().astype(int)\n",
    "df.fillna({'age': df['gym_frequency'].map(mean_age_by_gym_frequency)}, inplace=True)\n",
    "df['age'].mean()"
   ]
  },
  {
   "cell_type": "code",
   "execution_count": 14,
   "id": "71b9f5bc-1b15-49f4-b7be-babf5d62c103",
   "metadata": {},
   "outputs": [
    {
     "name": "stdout",
     "output_type": "stream",
     "text": [
      "<class 'pandas.core.frame.DataFrame'>\n",
      "RangeIndex: 1338 entries, 0 to 1337\n",
      "Data columns (total 11 columns):\n",
      " #   Column             Non-Null Count  Dtype  \n",
      "---  ------             --------------  -----  \n",
      " 0   age                1324 non-null   float64\n",
      " 1   sex                1338 non-null   object \n",
      " 2   bmi                1220 non-null   float64\n",
      " 3   children           1177 non-null   float64\n",
      " 4   smoker             1203 non-null   object \n",
      " 5   region             1210 non-null   object \n",
      " 6   charges            1338 non-null   float64\n",
      " 7   occupation         1221 non-null   object \n",
      " 8   avg_steps_per_day  1193 non-null   float64\n",
      " 9   gym_frequency      1207 non-null   object \n",
      " 10  time_spent_in_gym  1338 non-null   int64  \n",
      "dtypes: float64(5), int64(1), object(5)\n",
      "memory usage: 115.1+ KB\n"
     ]
    }
   ],
   "source": [
    "df.info()"
   ]
  },
  {
   "cell_type": "code",
   "execution_count": 15,
   "id": "8be6c724-4772-4a5a-9a60-f4736be6be7b",
   "metadata": {},
   "outputs": [],
   "source": [
    "#Answer: 39.209"
   ]
  },
  {
   "cell_type": "code",
   "execution_count": 16,
   "id": "e7c1860e-b9e5-4042-b666-91d91f99d66e",
   "metadata": {},
   "outputs": [
    {
     "name": "stdout",
     "output_type": "stream",
     "text": [
      "<class 'pandas.core.frame.DataFrame'>\n",
      "RangeIndex: 1338 entries, 0 to 1337\n",
      "Data columns (total 11 columns):\n",
      " #   Column             Non-Null Count  Dtype  \n",
      "---  ------             --------------  -----  \n",
      " 0   age                1324 non-null   float64\n",
      " 1   sex                1338 non-null   object \n",
      " 2   bmi                1220 non-null   float64\n",
      " 3   children           1177 non-null   float64\n",
      " 4   smoker             1203 non-null   object \n",
      " 5   region             1210 non-null   object \n",
      " 6   charges            1338 non-null   float64\n",
      " 7   occupation         1221 non-null   object \n",
      " 8   avg_steps_per_day  1193 non-null   float64\n",
      " 9   gym_frequency      1207 non-null   object \n",
      " 10  time_spent_in_gym  1338 non-null   int64  \n",
      "dtypes: float64(5), int64(1), object(5)\n",
      "memory usage: 115.1+ KB\n"
     ]
    }
   ],
   "source": [
    "#Question 5:\n",
    "df.info()"
   ]
  },
  {
   "cell_type": "code",
   "execution_count": 17,
   "id": "522a90f2-c3d8-40de-ad18-38ad1a20fc9c",
   "metadata": {},
   "outputs": [],
   "source": [
    "df.fillna({'age': df['age'].median()}, inplace=True)"
   ]
  },
  {
   "cell_type": "code",
   "execution_count": 18,
   "id": "00b9e44c-7db3-463b-ac37-24e3610c0388",
   "metadata": {},
   "outputs": [
    {
     "name": "stdout",
     "output_type": "stream",
     "text": [
      "<class 'pandas.core.frame.DataFrame'>\n",
      "RangeIndex: 1338 entries, 0 to 1337\n",
      "Data columns (total 11 columns):\n",
      " #   Column             Non-Null Count  Dtype  \n",
      "---  ------             --------------  -----  \n",
      " 0   age                1338 non-null   float64\n",
      " 1   sex                1338 non-null   object \n",
      " 2   bmi                1220 non-null   float64\n",
      " 3   children           1177 non-null   float64\n",
      " 4   smoker             1203 non-null   object \n",
      " 5   region             1210 non-null   object \n",
      " 6   charges            1338 non-null   float64\n",
      " 7   occupation         1221 non-null   object \n",
      " 8   avg_steps_per_day  1193 non-null   float64\n",
      " 9   gym_frequency      1207 non-null   object \n",
      " 10  time_spent_in_gym  1338 non-null   int64  \n",
      "dtypes: float64(5), int64(1), object(5)\n",
      "memory usage: 115.1+ KB\n"
     ]
    }
   ],
   "source": [
    "df.info()"
   ]
  },
  {
   "cell_type": "code",
   "execution_count": 19,
   "id": "ecf34832-66a1-43c1-bfc2-946b8486dd9a",
   "metadata": {},
   "outputs": [
    {
     "data": {
      "text/plain": [
       "39.20702541106129"
      ]
     },
     "execution_count": 19,
     "metadata": {},
     "output_type": "execute_result"
    }
   ],
   "source": [
    "df['age'].mean()"
   ]
  },
  {
   "cell_type": "code",
   "execution_count": 20,
   "id": "ef3c8b60-beaa-4520-960b-5a697aef8ea0",
   "metadata": {},
   "outputs": [],
   "source": [
    "#Answer: 39.207"
   ]
  },
  {
   "cell_type": "code",
   "execution_count": 21,
   "id": "627e6493-8002-4ed6-8829-7e2d058cc92b",
   "metadata": {},
   "outputs": [
    {
     "data": {
      "text/plain": [
       "sex\n",
       "male      676\n",
       "female    662\n",
       "Name: count, dtype: int64"
      ]
     },
     "execution_count": 21,
     "metadata": {},
     "output_type": "execute_result"
    }
   ],
   "source": [
    "#Question 6:\n",
    "df['sex'].value_counts()"
   ]
  },
  {
   "cell_type": "code",
   "execution_count": 22,
   "id": "82bb704a-1728-4ddd-8991-4a1675b92ae7",
   "metadata": {},
   "outputs": [
    {
     "name": "stdout",
     "output_type": "stream",
     "text": [
      "<class 'pandas.core.frame.DataFrame'>\n",
      "RangeIndex: 1338 entries, 0 to 1337\n",
      "Data columns (total 11 columns):\n",
      " #   Column             Non-Null Count  Dtype  \n",
      "---  ------             --------------  -----  \n",
      " 0   age                1338 non-null   float64\n",
      " 1   sex                1338 non-null   int64  \n",
      " 2   bmi                1220 non-null   float64\n",
      " 3   children           1177 non-null   float64\n",
      " 4   smoker             1203 non-null   object \n",
      " 5   region             1210 non-null   object \n",
      " 6   charges            1338 non-null   float64\n",
      " 7   occupation         1221 non-null   object \n",
      " 8   avg_steps_per_day  1193 non-null   float64\n",
      " 9   gym_frequency      1207 non-null   object \n",
      " 10  time_spent_in_gym  1338 non-null   int64  \n",
      "dtypes: float64(5), int64(2), object(4)\n",
      "memory usage: 115.1+ KB\n"
     ]
    }
   ],
   "source": [
    "#Answer: Map male to 1 and female to 0.\n",
    "df['sex'] = df['sex'].map({'male': 1, 'female':0})\n",
    "df.info()"
   ]
  },
  {
   "cell_type": "code",
   "execution_count": 23,
   "id": "f2d317c2-8f04-467f-af5d-ee4902c8cfb5",
   "metadata": {},
   "outputs": [
    {
     "name": "stdout",
     "output_type": "stream",
     "text": [
      "<class 'pandas.core.frame.DataFrame'>\n",
      "RangeIndex: 1338 entries, 0 to 1337\n",
      "Data columns (total 11 columns):\n",
      " #   Column             Non-Null Count  Dtype  \n",
      "---  ------             --------------  -----  \n",
      " 0   age                1338 non-null   float64\n",
      " 1   sex                1338 non-null   int64  \n",
      " 2   bmi                1338 non-null   float64\n",
      " 3   children           1177 non-null   float64\n",
      " 4   smoker             1203 non-null   object \n",
      " 5   region             1210 non-null   object \n",
      " 6   charges            1338 non-null   float64\n",
      " 7   occupation         1221 non-null   object \n",
      " 8   avg_steps_per_day  1193 non-null   float64\n",
      " 9   gym_frequency      1207 non-null   object \n",
      " 10  time_spent_in_gym  1338 non-null   int64  \n",
      "dtypes: float64(5), int64(2), object(4)\n",
      "memory usage: 115.1+ KB\n"
     ]
    }
   ],
   "source": [
    "#Question 7:\n",
    "#Answer: Substitute all the missing values with the median of the available values.\n",
    "df.fillna({'bmi': df['bmi'].median()}, inplace = True)\n",
    "df.info()"
   ]
  },
  {
   "cell_type": "code",
   "execution_count": 24,
   "id": "c8864e34-6749-4458-a0eb-77243546addd",
   "metadata": {},
   "outputs": [
    {
     "data": {
      "text/plain": [
       "children\n",
       "0.0    0.418862\n",
       "1.0    0.244690\n",
       "2.0    0.180119\n",
       "3.0    0.121495\n",
       "4.0    0.020391\n",
       "5.0    0.014444\n",
       "Name: count, dtype: float64"
      ]
     },
     "execution_count": 24,
     "metadata": {},
     "output_type": "execute_result"
    }
   ],
   "source": [
    "#Question 8:\n",
    "non_missing_value_counts = df['children'].value_counts()\n",
    "total_non_missing_values = non_missing_value_counts.sum()\n",
    "p = non_missing_value_counts / total_non_missing_values\n",
    "p"
   ]
  },
  {
   "cell_type": "code",
   "execution_count": 25,
   "id": "fce90699-229c-49fc-8387-2cf8e5451832",
   "metadata": {},
   "outputs": [],
   "source": [
    "np.random.seed(0)\n",
    "values = np.random.choice([0, 1, 2, 3, 4, 5], \n",
    "                          size=df['children'].isnull().sum(), \n",
    "                          p=[p[0], p[1], p[2], p[3], p[4], p[5]])"
   ]
  },
  {
   "cell_type": "code",
   "execution_count": 26,
   "id": "a0b3af58-4373-4016-ab2d-454a946e50c7",
   "metadata": {},
   "outputs": [],
   "source": [
    "df.loc[df['children'].isnull(), 'children'] = values"
   ]
  },
  {
   "cell_type": "code",
   "execution_count": 27,
   "id": "0b68e7ca-dd9a-4c3c-aa22-99792dcd5d39",
   "metadata": {},
   "outputs": [
    {
     "name": "stdout",
     "output_type": "stream",
     "text": [
      "<class 'pandas.core.frame.DataFrame'>\n",
      "RangeIndex: 1338 entries, 0 to 1337\n",
      "Data columns (total 11 columns):\n",
      " #   Column             Non-Null Count  Dtype  \n",
      "---  ------             --------------  -----  \n",
      " 0   age                1338 non-null   float64\n",
      " 1   sex                1338 non-null   int64  \n",
      " 2   bmi                1338 non-null   float64\n",
      " 3   children           1338 non-null   float64\n",
      " 4   smoker             1203 non-null   object \n",
      " 5   region             1210 non-null   object \n",
      " 6   charges            1338 non-null   float64\n",
      " 7   occupation         1221 non-null   object \n",
      " 8   avg_steps_per_day  1193 non-null   float64\n",
      " 9   gym_frequency      1207 non-null   object \n",
      " 10  time_spent_in_gym  1338 non-null   int64  \n",
      "dtypes: float64(5), int64(2), object(4)\n",
      "memory usage: 115.1+ KB\n"
     ]
    }
   ],
   "source": [
    "df.info()"
   ]
  },
  {
   "cell_type": "code",
   "execution_count": 28,
   "id": "fdc02cde-0c43-4a59-8883-f14318147ee7",
   "metadata": {},
   "outputs": [
    {
     "data": {
      "text/plain": [
       "children\n",
       "0.0    553\n",
       "1.0    337\n",
       "2.0    241\n",
       "3.0    161\n",
       "4.0     27\n",
       "5.0     19\n",
       "Name: count, dtype: int64"
      ]
     },
     "execution_count": 28,
     "metadata": {},
     "output_type": "execute_result"
    }
   ],
   "source": [
    "df['children'].value_counts()"
   ]
  },
  {
   "cell_type": "code",
   "execution_count": 29,
   "id": "664b8ffe-b5f0-4a2b-ab81-db416598db1d",
   "metadata": {},
   "outputs": [],
   "source": [
    "#Answer: 0-553, 1-337, 2-241, 3-161, 4-27, 5-19"
   ]
  },
  {
   "cell_type": "code",
   "execution_count": 30,
   "id": "559c4e0d-db3b-4071-87d6-f0cfb75588c8",
   "metadata": {},
   "outputs": [
    {
     "name": "stdout",
     "output_type": "stream",
     "text": [
      "<class 'pandas.core.frame.DataFrame'>\n",
      "RangeIndex: 1338 entries, 0 to 1337\n",
      "Data columns (total 11 columns):\n",
      " #   Column             Non-Null Count  Dtype  \n",
      "---  ------             --------------  -----  \n",
      " 0   age                1338 non-null   float64\n",
      " 1   sex                1338 non-null   int64  \n",
      " 2   bmi                1338 non-null   float64\n",
      " 3   children           1338 non-null   float64\n",
      " 4   smoker             1203 non-null   object \n",
      " 5   region             1210 non-null   object \n",
      " 6   charges            1338 non-null   float64\n",
      " 7   occupation         1221 non-null   object \n",
      " 8   avg_steps_per_day  1193 non-null   float64\n",
      " 9   gym_frequency      1207 non-null   object \n",
      " 10  time_spent_in_gym  1338 non-null   int64  \n",
      "dtypes: float64(5), int64(2), object(4)\n",
      "memory usage: 115.1+ KB\n"
     ]
    }
   ],
   "source": [
    "#Question 9:\n",
    "df.info()"
   ]
  },
  {
   "cell_type": "code",
   "execution_count": 31,
   "id": "b7ee2ad6-e2f0-4bf3-bda5-9966691b8909",
   "metadata": {},
   "outputs": [
    {
     "data": {
      "text/plain": [
       "smoker\n",
       "no     963\n",
       "yes    240\n",
       "Name: count, dtype: int64"
      ]
     },
     "execution_count": 31,
     "metadata": {},
     "output_type": "execute_result"
    }
   ],
   "source": [
    "df['smoker'].value_counts()"
   ]
  },
  {
   "cell_type": "code",
   "execution_count": 32,
   "id": "0b1ced54-89d3-4fed-a50b-def1d07757f7",
   "metadata": {},
   "outputs": [
    {
     "name": "stdout",
     "output_type": "stream",
     "text": [
      "<class 'pandas.core.frame.DataFrame'>\n",
      "RangeIndex: 1338 entries, 0 to 1337\n",
      "Data columns (total 11 columns):\n",
      " #   Column             Non-Null Count  Dtype  \n",
      "---  ------             --------------  -----  \n",
      " 0   age                1338 non-null   float64\n",
      " 1   sex                1338 non-null   int64  \n",
      " 2   bmi                1338 non-null   float64\n",
      " 3   children           1338 non-null   float64\n",
      " 4   smoker             1338 non-null   int64  \n",
      " 5   region             1210 non-null   object \n",
      " 6   charges            1338 non-null   float64\n",
      " 7   occupation         1221 non-null   object \n",
      " 8   avg_steps_per_day  1193 non-null   float64\n",
      " 9   gym_frequency      1207 non-null   object \n",
      " 10  time_spent_in_gym  1338 non-null   int64  \n",
      "dtypes: float64(5), int64(3), object(3)\n",
      "memory usage: 115.1+ KB\n"
     ]
    }
   ],
   "source": [
    "#Answer: Map no to 1 and yes to 0\n",
    "df.fillna({'smoker': 'no'}, inplace = True)\n",
    "df['smoker'] = df['smoker'].map({'no': 1, 'yes':0})\n",
    "df.info()"
   ]
  },
  {
   "cell_type": "code",
   "execution_count": 33,
   "id": "2f4a9475-7abb-4c2d-9c25-0d51eb883eea",
   "metadata": {},
   "outputs": [
    {
     "data": {
      "text/plain": [
       "region\n",
       "southeast    0.280374\n",
       "southwest    0.250637\n",
       "northwest    0.248938\n",
       "northeast    0.248088\n",
       "Name: count, dtype: float64"
      ]
     },
     "execution_count": 33,
     "metadata": {},
     "output_type": "execute_result"
    }
   ],
   "source": [
    "#Question 10:\n",
    "non_missing_region_value_counts = df['region'].value_counts()\n",
    "total_region_non_missing_values = non_missing_value_counts.sum()\n",
    "p = non_missing_region_value_counts / total_region_non_missing_values\n",
    "p"
   ]
  },
  {
   "cell_type": "code",
   "execution_count": 34,
   "id": "c79888d8-a45e-484a-9184-d496a76710be",
   "metadata": {},
   "outputs": [
    {
     "data": {
      "text/plain": [
       "region\n",
       "southeast    0.272727\n",
       "southwest    0.243802\n",
       "northwest    0.242149\n",
       "northeast    0.241322\n",
       "Name: count, dtype: float64"
      ]
     },
     "execution_count": 34,
     "metadata": {},
     "output_type": "execute_result"
    }
   ],
   "source": [
    "normalized_p = p/ p.sum()\n",
    "normalized_p"
   ]
  },
  {
   "cell_type": "code",
   "execution_count": 35,
   "id": "2954ec50-4447-44f5-b1c6-3cb062295ce2",
   "metadata": {},
   "outputs": [],
   "source": [
    "d= {0: 'southeast', 1: 'southwest', 2: 'northwest', 3: 'northeast'}"
   ]
  },
  {
   "cell_type": "code",
   "execution_count": 36,
   "id": "ea84b213-86b6-44f8-b596-51ddb2624d8f",
   "metadata": {},
   "outputs": [],
   "source": [
    "np.random.seed(0)\n",
    "values = np.random.choice([0, 1, 2, 3], \n",
    "                           size=df['region'].isnull().sum(), \n",
    "                           p= normalized_p)"
   ]
  },
  {
   "cell_type": "code",
   "execution_count": 37,
   "id": "7c87d46d-c8cd-4d8e-8557-aeb22afb2010",
   "metadata": {},
   "outputs": [],
   "source": [
    "for index, value in df['region'].items():\n",
    "    if pd.isnull(value):\n",
    "        df.at[index, 'region'] = d[values[0]]\n",
    "        values = values[1:]"
   ]
  },
  {
   "cell_type": "code",
   "execution_count": 38,
   "id": "be749b48-c3ee-4897-96d1-21d2eee54909",
   "metadata": {},
   "outputs": [
    {
     "name": "stdout",
     "output_type": "stream",
     "text": [
      "<class 'pandas.core.frame.DataFrame'>\n",
      "RangeIndex: 1338 entries, 0 to 1337\n",
      "Data columns (total 11 columns):\n",
      " #   Column             Non-Null Count  Dtype  \n",
      "---  ------             --------------  -----  \n",
      " 0   age                1338 non-null   float64\n",
      " 1   sex                1338 non-null   int64  \n",
      " 2   bmi                1338 non-null   float64\n",
      " 3   children           1338 non-null   float64\n",
      " 4   smoker             1338 non-null   int64  \n",
      " 5   region             1338 non-null   object \n",
      " 6   charges            1338 non-null   float64\n",
      " 7   occupation         1221 non-null   object \n",
      " 8   avg_steps_per_day  1193 non-null   float64\n",
      " 9   gym_frequency      1207 non-null   object \n",
      " 10  time_spent_in_gym  1338 non-null   int64  \n",
      "dtypes: float64(5), int64(3), object(3)\n",
      "memory usage: 115.1+ KB\n"
     ]
    }
   ],
   "source": [
    "df.info()"
   ]
  },
  {
   "cell_type": "code",
   "execution_count": 39,
   "id": "a5e1bd9a-d562-4e11-9eb8-f0512a9f781b",
   "metadata": {},
   "outputs": [
    {
     "data": {
      "text/plain": [
       "region\n",
       "southeast    365\n",
       "northwest    333\n",
       "southwest    321\n",
       "northeast    319\n",
       "Name: count, dtype: int64"
      ]
     },
     "execution_count": 39,
     "metadata": {},
     "output_type": "execute_result"
    }
   ],
   "source": [
    "df['region'].value_counts()"
   ]
  },
  {
   "cell_type": "code",
   "execution_count": 40,
   "id": "095868e9-c7a2-4681-b848-61a864ea0e0b",
   "metadata": {},
   "outputs": [
    {
     "name": "stdout",
     "output_type": "stream",
     "text": [
      "<class 'pandas.core.frame.DataFrame'>\n",
      "RangeIndex: 1338 entries, 0 to 1337\n",
      "Data columns (total 15 columns):\n",
      " #   Column             Non-Null Count  Dtype  \n",
      "---  ------             --------------  -----  \n",
      " 0   age                1338 non-null   float64\n",
      " 1   sex                1338 non-null   int64  \n",
      " 2   bmi                1338 non-null   float64\n",
      " 3   children           1338 non-null   float64\n",
      " 4   smoker             1338 non-null   int64  \n",
      " 5   region             1338 non-null   object \n",
      " 6   charges            1338 non-null   float64\n",
      " 7   occupation         1221 non-null   object \n",
      " 8   avg_steps_per_day  1193 non-null   float64\n",
      " 9   gym_frequency      1207 non-null   object \n",
      " 10  time_spent_in_gym  1338 non-null   int64  \n",
      " 11  region_northeast   1338 non-null   bool   \n",
      " 12  region_northwest   1338 non-null   bool   \n",
      " 13  region_southeast   1338 non-null   bool   \n",
      " 14  region_southwest   1338 non-null   bool   \n",
      "dtypes: bool(4), float64(5), int64(3), object(3)\n",
      "memory usage: 120.3+ KB\n"
     ]
    }
   ],
   "source": [
    "#Question 11:\n",
    "cols = pd.get_dummies(df['region'], prefix= 'region')\n",
    "df[cols.columns] = cols\n",
    "df.info()"
   ]
  },
  {
   "cell_type": "code",
   "execution_count": 41,
   "id": "3bacd835-46b7-4098-af46-989719707004",
   "metadata": {},
   "outputs": [
    {
     "name": "stdout",
     "output_type": "stream",
     "text": [
      "<class 'pandas.core.frame.DataFrame'>\n",
      "RangeIndex: 1338 entries, 0 to 1337\n",
      "Data columns (total 14 columns):\n",
      " #   Column             Non-Null Count  Dtype  \n",
      "---  ------             --------------  -----  \n",
      " 0   age                1338 non-null   float64\n",
      " 1   sex                1338 non-null   int64  \n",
      " 2   bmi                1338 non-null   float64\n",
      " 3   children           1338 non-null   float64\n",
      " 4   smoker             1338 non-null   int64  \n",
      " 5   charges            1338 non-null   float64\n",
      " 6   occupation         1221 non-null   object \n",
      " 7   avg_steps_per_day  1193 non-null   float64\n",
      " 8   gym_frequency      1207 non-null   object \n",
      " 9   time_spent_in_gym  1338 non-null   int64  \n",
      " 10  region_northeast   1338 non-null   bool   \n",
      " 11  region_northwest   1338 non-null   bool   \n",
      " 12  region_southeast   1338 non-null   bool   \n",
      " 13  region_southwest   1338 non-null   bool   \n",
      "dtypes: bool(4), float64(5), int64(3), object(2)\n",
      "memory usage: 109.9+ KB\n"
     ]
    }
   ],
   "source": [
    "df.drop('region', axis = 1, inplace = True)\n",
    "df.info()"
   ]
  },
  {
   "cell_type": "code",
   "execution_count": 42,
   "id": "04255eaa-174a-44f6-ae29-26f5f1c0b113",
   "metadata": {},
   "outputs": [
    {
     "data": {
      "text/plain": [
       "occupation\n",
       "Artist      257\n",
       "Engineer    256\n",
       "Other       242\n",
       "Doctor      235\n",
       "Teacher     231\n",
       "Name: count, dtype: int64"
      ]
     },
     "execution_count": 42,
     "metadata": {},
     "output_type": "execute_result"
    }
   ],
   "source": [
    "#Question 12:\n",
    "df['occupation'].value_counts()"
   ]
  },
  {
   "cell_type": "code",
   "execution_count": 43,
   "id": "0182ebe0-9964-4943-b630-1051d777ccfe",
   "metadata": {},
   "outputs": [
    {
     "name": "stdout",
     "output_type": "stream",
     "text": [
      "<class 'pandas.core.frame.DataFrame'>\n",
      "RangeIndex: 1338 entries, 0 to 1337\n",
      "Data columns (total 14 columns):\n",
      " #   Column             Non-Null Count  Dtype  \n",
      "---  ------             --------------  -----  \n",
      " 0   age                1338 non-null   float64\n",
      " 1   sex                1338 non-null   int64  \n",
      " 2   bmi                1338 non-null   float64\n",
      " 3   children           1338 non-null   float64\n",
      " 4   smoker             1338 non-null   int64  \n",
      " 5   charges            1338 non-null   float64\n",
      " 6   occupation         1338 non-null   object \n",
      " 7   avg_steps_per_day  1193 non-null   float64\n",
      " 8   gym_frequency      1207 non-null   object \n",
      " 9   time_spent_in_gym  1338 non-null   int64  \n",
      " 10  region_northeast   1338 non-null   bool   \n",
      " 11  region_northwest   1338 non-null   bool   \n",
      " 12  region_southeast   1338 non-null   bool   \n",
      " 13  region_southwest   1338 non-null   bool   \n",
      "dtypes: bool(4), float64(5), int64(3), object(2)\n",
      "memory usage: 109.9+ KB\n"
     ]
    }
   ],
   "source": [
    "df.fillna({'occupation': 'Other'}, inplace=True)\n",
    "df.info()"
   ]
  },
  {
   "cell_type": "code",
   "execution_count": 44,
   "id": "2f3b1447-1d8e-4dfc-8287-093a31d8ab72",
   "metadata": {},
   "outputs": [
    {
     "data": {
      "text/plain": [
       "occupation\n",
       "Other       359\n",
       "Artist      257\n",
       "Engineer    256\n",
       "Doctor      235\n",
       "Teacher     231\n",
       "Name: count, dtype: int64"
      ]
     },
     "execution_count": 44,
     "metadata": {},
     "output_type": "execute_result"
    }
   ],
   "source": [
    "df['occupation'].value_counts()"
   ]
  },
  {
   "cell_type": "code",
   "execution_count": 45,
   "id": "6bc76ff8-795c-47d7-801c-f64665459c04",
   "metadata": {},
   "outputs": [
    {
     "data": {
      "text/html": [
       "<div>\n",
       "<style scoped>\n",
       "    .dataframe tbody tr th:only-of-type {\n",
       "        vertical-align: middle;\n",
       "    }\n",
       "\n",
       "    .dataframe tbody tr th {\n",
       "        vertical-align: top;\n",
       "    }\n",
       "\n",
       "    .dataframe thead th {\n",
       "        text-align: right;\n",
       "    }\n",
       "</style>\n",
       "<table border=\"1\" class=\"dataframe\">\n",
       "  <thead>\n",
       "    <tr style=\"text-align: right;\">\n",
       "      <th>occupation</th>\n",
       "      <th>Artist</th>\n",
       "      <th>Doctor</th>\n",
       "      <th>Engineer</th>\n",
       "      <th>Other</th>\n",
       "      <th>Teacher</th>\n",
       "    </tr>\n",
       "    <tr>\n",
       "      <th>gym_frequency</th>\n",
       "      <th></th>\n",
       "      <th></th>\n",
       "      <th></th>\n",
       "      <th></th>\n",
       "      <th></th>\n",
       "    </tr>\n",
       "  </thead>\n",
       "  <tbody>\n",
       "    <tr>\n",
       "      <th>1 or 2 days a week</th>\n",
       "      <td>44</td>\n",
       "      <td>44</td>\n",
       "      <td>34</td>\n",
       "      <td>55</td>\n",
       "      <td>31</td>\n",
       "    </tr>\n",
       "    <tr>\n",
       "      <th>3 to 5 days of a week</th>\n",
       "      <td>61</td>\n",
       "      <td>61</td>\n",
       "      <td>77</td>\n",
       "      <td>93</td>\n",
       "      <td>77</td>\n",
       "    </tr>\n",
       "    <tr>\n",
       "      <th>everyday</th>\n",
       "      <td>84</td>\n",
       "      <td>69</td>\n",
       "      <td>75</td>\n",
       "      <td>113</td>\n",
       "      <td>61</td>\n",
       "    </tr>\n",
       "    <tr>\n",
       "      <th>never</th>\n",
       "      <td>38</td>\n",
       "      <td>44</td>\n",
       "      <td>46</td>\n",
       "      <td>61</td>\n",
       "      <td>39</td>\n",
       "    </tr>\n",
       "  </tbody>\n",
       "</table>\n",
       "</div>"
      ],
      "text/plain": [
       "occupation             Artist  Doctor  Engineer  Other  Teacher\n",
       "gym_frequency                                                  \n",
       "1 or 2 days a week         44      44        34     55       31\n",
       "3 to 5 days of a week      61      61        77     93       77\n",
       "everyday                   84      69        75    113       61\n",
       "never                      38      44        46     61       39"
      ]
     },
     "execution_count": 45,
     "metadata": {},
     "output_type": "execute_result"
    }
   ],
   "source": [
    "#Question 13:\n",
    "pd.crosstab(df['gym_frequency'], df['occupation'])"
   ]
  },
  {
   "cell_type": "code",
   "execution_count": 46,
   "id": "bed6aa2d-d7b9-433f-8075-067ff436c33d",
   "metadata": {},
   "outputs": [
    {
     "name": "stdout",
     "output_type": "stream",
     "text": [
      "<class 'pandas.core.frame.DataFrame'>\n",
      "RangeIndex: 1338 entries, 0 to 1337\n",
      "Data columns (total 14 columns):\n",
      " #   Column             Non-Null Count  Dtype  \n",
      "---  ------             --------------  -----  \n",
      " 0   age                1338 non-null   float64\n",
      " 1   sex                1338 non-null   int64  \n",
      " 2   bmi                1338 non-null   float64\n",
      " 3   children           1338 non-null   float64\n",
      " 4   smoker             1338 non-null   int64  \n",
      " 5   charges            1338 non-null   float64\n",
      " 6   occupation         1338 non-null   object \n",
      " 7   avg_steps_per_day  1193 non-null   float64\n",
      " 8   gym_frequency      1338 non-null   object \n",
      " 9   time_spent_in_gym  1338 non-null   int64  \n",
      " 10  region_northeast   1338 non-null   bool   \n",
      " 11  region_northwest   1338 non-null   bool   \n",
      " 12  region_southeast   1338 non-null   bool   \n",
      " 13  region_southwest   1338 non-null   bool   \n",
      "dtypes: bool(4), float64(5), int64(3), object(2)\n",
      "memory usage: 109.9+ KB\n"
     ]
    }
   ],
   "source": [
    "gym_frequency_by_occupation = df.groupby('occupation')['gym_frequency'].apply(lambda x: x.mode()[0])\n",
    "df.fillna({'gym_frequency': df['occupation'].map(gym_frequency_by_occupation)}, inplace=True)\n",
    "df.info()"
   ]
  },
  {
   "cell_type": "code",
   "execution_count": 47,
   "id": "cb2d4613-2d97-4b0c-9fd2-d123f9835794",
   "metadata": {},
   "outputs": [
    {
     "data": {
      "text/plain": [
       "gym_frequency\n",
       "everyday                 486\n",
       "3 to 5 days of a week    416\n",
       "never                    228\n",
       "1 or 2 days a week       208\n",
       "Name: count, dtype: int64"
      ]
     },
     "execution_count": 47,
     "metadata": {},
     "output_type": "execute_result"
    }
   ],
   "source": [
    "df['gym_frequency'].value_counts()"
   ]
  },
  {
   "cell_type": "code",
   "execution_count": 48,
   "id": "8e508a1e-9fd1-4ad2-9292-035f3b260642",
   "metadata": {},
   "outputs": [
    {
     "name": "stdout",
     "output_type": "stream",
     "text": [
      "<class 'pandas.core.frame.DataFrame'>\n",
      "RangeIndex: 1338 entries, 0 to 1337\n",
      "Data columns (total 14 columns):\n",
      " #   Column             Non-Null Count  Dtype  \n",
      "---  ------             --------------  -----  \n",
      " 0   age                1338 non-null   float64\n",
      " 1   sex                1338 non-null   int64  \n",
      " 2   bmi                1338 non-null   float64\n",
      " 3   children           1338 non-null   float64\n",
      " 4   smoker             1338 non-null   int64  \n",
      " 5   charges            1338 non-null   float64\n",
      " 6   occupation         1338 non-null   object \n",
      " 7   avg_steps_per_day  1193 non-null   float64\n",
      " 8   gym_frequency      1338 non-null   int64  \n",
      " 9   time_spent_in_gym  1338 non-null   int64  \n",
      " 10  region_northeast   1338 non-null   bool   \n",
      " 11  region_northwest   1338 non-null   bool   \n",
      " 12  region_southeast   1338 non-null   bool   \n",
      " 13  region_southwest   1338 non-null   bool   \n",
      "dtypes: bool(4), float64(5), int64(4), object(1)\n",
      "memory usage: 109.9+ KB\n"
     ]
    }
   ],
   "source": [
    "#Question 14:\n",
    "df['gym_frequency'] = df['gym_frequency'].map({'never' : 0, '1 or 2 days a week': 1, '3 to 5 days of a week': 2, 'everyday': 3}) \n",
    "df.info()"
   ]
  },
  {
   "cell_type": "code",
   "execution_count": 49,
   "id": "99ead0c0-30c7-42cf-8f7a-4d452751da05",
   "metadata": {},
   "outputs": [
    {
     "data": {
      "text/plain": [
       "occupation\n",
       "Other       359\n",
       "Artist      257\n",
       "Engineer    256\n",
       "Doctor      235\n",
       "Teacher     231\n",
       "Name: count, dtype: int64"
      ]
     },
     "execution_count": 49,
     "metadata": {},
     "output_type": "execute_result"
    }
   ],
   "source": [
    "#Question 15:\n",
    "df['occupation'].value_counts()"
   ]
  },
  {
   "cell_type": "code",
   "execution_count": 50,
   "id": "fdddb792-3f0a-484c-8d85-f1d517c5e579",
   "metadata": {},
   "outputs": [
    {
     "name": "stdout",
     "output_type": "stream",
     "text": [
      "<class 'pandas.core.frame.DataFrame'>\n",
      "RangeIndex: 1338 entries, 0 to 1337\n",
      "Data columns (total 19 columns):\n",
      " #   Column               Non-Null Count  Dtype  \n",
      "---  ------               --------------  -----  \n",
      " 0   age                  1338 non-null   float64\n",
      " 1   sex                  1338 non-null   int64  \n",
      " 2   bmi                  1338 non-null   float64\n",
      " 3   children             1338 non-null   float64\n",
      " 4   smoker               1338 non-null   int64  \n",
      " 5   charges              1338 non-null   float64\n",
      " 6   occupation           1338 non-null   object \n",
      " 7   avg_steps_per_day    1193 non-null   float64\n",
      " 8   gym_frequency        1338 non-null   int64  \n",
      " 9   time_spent_in_gym    1338 non-null   int64  \n",
      " 10  region_northeast     1338 non-null   bool   \n",
      " 11  region_northwest     1338 non-null   bool   \n",
      " 12  region_southeast     1338 non-null   bool   \n",
      " 13  region_southwest     1338 non-null   bool   \n",
      " 14  Occupation_Artist    1338 non-null   bool   \n",
      " 15  Occupation_Doctor    1338 non-null   bool   \n",
      " 16  Occupation_Engineer  1338 non-null   bool   \n",
      " 17  Occupation_Other     1338 non-null   bool   \n",
      " 18  Occupation_Teacher   1338 non-null   bool   \n",
      "dtypes: bool(9), float64(5), int64(4), object(1)\n",
      "memory usage: 116.4+ KB\n"
     ]
    }
   ],
   "source": [
    "cols = pd.get_dummies(df['occupation'], prefix= 'Occupation')\n",
    "df[cols.columns] = cols\n",
    "df.info()"
   ]
  },
  {
   "cell_type": "code",
   "execution_count": 51,
   "id": "cf956f46-65e1-4c43-9f2d-b0167170fc50",
   "metadata": {},
   "outputs": [
    {
     "name": "stdout",
     "output_type": "stream",
     "text": [
      "<class 'pandas.core.frame.DataFrame'>\n",
      "RangeIndex: 1338 entries, 0 to 1337\n",
      "Data columns (total 18 columns):\n",
      " #   Column               Non-Null Count  Dtype  \n",
      "---  ------               --------------  -----  \n",
      " 0   age                  1338 non-null   float64\n",
      " 1   sex                  1338 non-null   int64  \n",
      " 2   bmi                  1338 non-null   float64\n",
      " 3   children             1338 non-null   float64\n",
      " 4   smoker               1338 non-null   int64  \n",
      " 5   charges              1338 non-null   float64\n",
      " 6   avg_steps_per_day    1193 non-null   float64\n",
      " 7   gym_frequency        1338 non-null   int64  \n",
      " 8   time_spent_in_gym    1338 non-null   int64  \n",
      " 9   region_northeast     1338 non-null   bool   \n",
      " 10  region_northwest     1338 non-null   bool   \n",
      " 11  region_southeast     1338 non-null   bool   \n",
      " 12  region_southwest     1338 non-null   bool   \n",
      " 13  Occupation_Artist    1338 non-null   bool   \n",
      " 14  Occupation_Doctor    1338 non-null   bool   \n",
      " 15  Occupation_Engineer  1338 non-null   bool   \n",
      " 16  Occupation_Other     1338 non-null   bool   \n",
      " 17  Occupation_Teacher   1338 non-null   bool   \n",
      "dtypes: bool(9), float64(5), int64(4)\n",
      "memory usage: 106.0 KB\n"
     ]
    }
   ],
   "source": [
    "df.drop('occupation', axis = 1, inplace = True)\n",
    "df.info()"
   ]
  },
  {
   "cell_type": "code",
   "execution_count": 52,
   "id": "2f1eacae-6813-4f69-8bc3-a0090fa2ff5f",
   "metadata": {},
   "outputs": [],
   "source": [
    "#Question 16\n",
    "age_group = df['age'] // 10 * 10\n",
    "median_steps_per_day_by_age_group = df.groupby(age_group)['avg_steps_per_day'].median()\n",
    "df.fillna({'avg_steps_per_day': age_group.map(median_steps_per_day_by_age_group)}, inplace=True)"
   ]
  },
  {
   "cell_type": "code",
   "execution_count": 53,
   "id": "62cc4c35-21d4-4b5b-895d-6163727b60d8",
   "metadata": {},
   "outputs": [
    {
     "name": "stdout",
     "output_type": "stream",
     "text": [
      "<class 'pandas.core.frame.DataFrame'>\n",
      "RangeIndex: 1338 entries, 0 to 1337\n",
      "Data columns (total 18 columns):\n",
      " #   Column               Non-Null Count  Dtype  \n",
      "---  ------               --------------  -----  \n",
      " 0   age                  1338 non-null   float64\n",
      " 1   sex                  1338 non-null   int64  \n",
      " 2   bmi                  1338 non-null   float64\n",
      " 3   children             1338 non-null   float64\n",
      " 4   smoker               1338 non-null   int64  \n",
      " 5   charges              1338 non-null   float64\n",
      " 6   avg_steps_per_day    1338 non-null   float64\n",
      " 7   gym_frequency        1338 non-null   int64  \n",
      " 8   time_spent_in_gym    1338 non-null   int64  \n",
      " 9   region_northeast     1338 non-null   bool   \n",
      " 10  region_northwest     1338 non-null   bool   \n",
      " 11  region_southeast     1338 non-null   bool   \n",
      " 12  region_southwest     1338 non-null   bool   \n",
      " 13  Occupation_Artist    1338 non-null   bool   \n",
      " 14  Occupation_Doctor    1338 non-null   bool   \n",
      " 15  Occupation_Engineer  1338 non-null   bool   \n",
      " 16  Occupation_Other     1338 non-null   bool   \n",
      " 17  Occupation_Teacher   1338 non-null   bool   \n",
      "dtypes: bool(9), float64(5), int64(4)\n",
      "memory usage: 106.0 KB\n"
     ]
    }
   ],
   "source": [
    "df.info()"
   ]
  },
  {
   "cell_type": "code",
   "execution_count": 54,
   "id": "5d4afafd-17d3-4936-99fa-fedcf70838cc",
   "metadata": {},
   "outputs": [
    {
     "data": {
      "text/plain": [
       "7843.348281016442"
      ]
     },
     "execution_count": 54,
     "metadata": {},
     "output_type": "execute_result"
    }
   ],
   "source": [
    "df['avg_steps_per_day'].mean()"
   ]
  },
  {
   "cell_type": "code",
   "execution_count": 55,
   "id": "4c96d35a-39c2-46dd-9c04-3db132871371",
   "metadata": {},
   "outputs": [],
   "source": [
    "#Answer: 7843.34"
   ]
  },
  {
   "cell_type": "code",
   "execution_count": 56,
   "id": "02ac3d2a-a577-4afa-96c4-6ac1749d7147",
   "metadata": {},
   "outputs": [
    {
     "name": "stdout",
     "output_type": "stream",
     "text": [
      "<class 'pandas.core.frame.DataFrame'>\n",
      "RangeIndex: 1338 entries, 0 to 1337\n",
      "Data columns (total 18 columns):\n",
      " #   Column               Non-Null Count  Dtype  \n",
      "---  ------               --------------  -----  \n",
      " 0   age                  1338 non-null   float64\n",
      " 1   sex                  1338 non-null   int64  \n",
      " 2   bmi                  1338 non-null   float64\n",
      " 3   children             1338 non-null   float64\n",
      " 4   smoker               1338 non-null   int64  \n",
      " 5   charges              1338 non-null   float64\n",
      " 6   avg_steps_per_day    1338 non-null   float64\n",
      " 7   gym_frequency        1338 non-null   int64  \n",
      " 8   time_spent_in_gym    1338 non-null   int64  \n",
      " 9   region_northeast     1338 non-null   bool   \n",
      " 10  region_northwest     1338 non-null   bool   \n",
      " 11  region_southeast     1338 non-null   bool   \n",
      " 12  region_southwest     1338 non-null   bool   \n",
      " 13  Occupation_Artist    1338 non-null   bool   \n",
      " 14  Occupation_Doctor    1338 non-null   bool   \n",
      " 15  Occupation_Engineer  1338 non-null   bool   \n",
      " 16  Occupation_Other     1338 non-null   bool   \n",
      " 17  Occupation_Teacher   1338 non-null   bool   \n",
      "dtypes: bool(9), float64(5), int64(4)\n",
      "memory usage: 106.0 KB\n"
     ]
    }
   ],
   "source": [
    "#Question 17:\n",
    "df.info()"
   ]
  },
  {
   "cell_type": "code",
   "execution_count": 57,
   "id": "c967a157-5e03-4ba3-a477-5a8111a96b94",
   "metadata": {},
   "outputs": [],
   "source": [
    "df.to_csv('Lab1_output_insurance.csv', index=False)"
   ]
  },
  {
   "cell_type": "code",
   "execution_count": null,
   "id": "e06a9ecf-021b-48ac-aec0-57e60a253b97",
   "metadata": {},
   "outputs": [],
   "source": []
  }
 ],
 "metadata": {
  "kernelspec": {
   "display_name": "Python 3 (ipykernel)",
   "language": "python",
   "name": "python3"
  },
  "language_info": {
   "codemirror_mode": {
    "name": "ipython",
    "version": 3
   },
   "file_extension": ".py",
   "mimetype": "text/x-python",
   "name": "python",
   "nbconvert_exporter": "python",
   "pygments_lexer": "ipython3",
   "version": "3.12.6"
  }
 },
 "nbformat": 4,
 "nbformat_minor": 5
}
